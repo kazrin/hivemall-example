{
  "nbformat": 4,
  "nbformat_minor": 0,
  "metadata": {
    "colab": {
      "name": "[New]hivemall101_with_news20.ipynb",
      "version": "0.3.2",
      "provenance": [],
      "collapsed_sections": [],
      "include_colab_link": true
    },
    "kernelspec": {
      "name": "python3",
      "display_name": "Python 3"
    }
  },
  "cells": [
    {
      "cell_type": "markdown",
      "metadata": {
        "id": "view-in-github",
        "colab_type": "text"
      },
      "source": [
        "<a href=\"https://colab.research.google.com/github/td-yoshimura/hivemall-example/blob/master/machine-learning/20news/random_forest.ipynb\" target=\"_parent\"><img src=\"https://colab.research.google.com/assets/colab-badge.svg\" alt=\"Open In Colab\"/></a>"
      ]
    },
    {
      "metadata": {
        "id": "H5ZxIYLiAOx_",
        "colab_type": "text"
      },
      "cell_type": "markdown",
      "source": [
        "# Summary\n",
        "This notebook shows how to use classify articles with Random Forest in Hivemall using 20news dataset."
      ]
    },
    {
      "metadata": {
        "id": "X7ryfJU1g0os",
        "colab_type": "text"
      },
      "cell_type": "markdown",
      "source": [
        "# SetUp"
      ]
    },
    {
      "metadata": {
        "id": "TiFacn4vs2D2",
        "colab_type": "text"
      },
      "cell_type": "markdown",
      "source": [
        "Executing a following cell, you are asked to input some information."
      ]
    },
    {
      "metadata": {
        "id": "huiddEnjF5Ta",
        "colab_type": "code",
        "outputId": "58cffc83-ce78-458d-b126-2f22cd81b514",
        "colab": {
          "base_uri": "https://localhost:8080/",
          "height": 102
        }
      },
      "cell_type": "code",
      "source": [
        "from getpass import getpass\n",
        "td_api_key = getpass('Enter TD API KEY here ')\n",
        "database   = input('Enter YOUR DATABASE to create tables here ')\n",
        "assert database, \"Error: Input YOUR DATABASE\"\n",
        "endpoint   = input('Enter YOUR ENDPOINT to create tables here (default: \"api.treasuredata.com\") \\nref : https://support.treasuredata.com/hc/en-us/articles/360001474288-Sites-and-Endpoints ')\n",
        "endpoint = endpoint if endpoint else 'https://api.treasuredata.com/'\n",
        "endpoint = 'https://' + endpoint if not endpoint.startswith('https://') else endpoint\n",
        "use_spark  = input('If enable to use spark, enter \"true\" (default: false) ').lower()\n",
        "use_spark  = use_spark == 'true'\n",
        "table = 'news20'"
      ],
      "execution_count": 20,
      "outputs": [
        {
          "output_type": "stream",
          "text": [
            "Enter TD API KEY here ··········\n",
            "Enter YOUR DATABASE to create tables here hivemall\n",
            "Enter YOUR ENDPOINT to create tables here (default: \"api.treasuredata.com\") \n",
            "ref : https://support.treasuredata.com/hc/en-us/articles/360001474288-Sites-and-Endpoints \n",
            "If enable to use spark, enter \"true\" (default: false) true\n"
          ],
          "name": "stdout"
        }
      ]
    },
    {
      "metadata": {
        "id": "nr-uNr8Fa9yk",
        "colab_type": "code",
        "colab": {}
      },
      "cell_type": "code",
      "source": [
        "%%capture\n",
        "!pip install td-client\n",
        "!pip install pandas-td\n",
        "!pip install -q git+https://github.com/takuti/pytd@master#egg=treasure-data[spark]\n",
        "\n",
        "import numpy as np\n",
        "import pandas as pd\n",
        "import pandas_td as td\n",
        "import matplotlib.pyplot as plt\n",
        "import seaborn as sns\n",
        "import pytd\n",
        "import tdclient\n",
        "pd.options.display.max_columns = 30\n",
        "\n",
        "%matplotlib inline\n",
        "con = td.connect(apikey=td_api_key, endpoint=endpoint)\n",
        "c = tdclient.Client(apikey=td_api_key, endpoint=endpoint)\n",
        "presto = td.create_engine('presto:{}'.format(database), con=con)\n",
        "hive = td.create_engine('hive:{}'.format(database), con=con)"
      ],
      "execution_count": 0,
      "outputs": []
    },
    {
      "metadata": {
        "id": "JR4pLLbjM9fN",
        "colab_type": "text"
      },
      "cell_type": "markdown",
      "source": [
        "# Data Preparation"
      ]
    },
    {
      "metadata": {
        "id": "EdXGlZnFAoRl",
        "colab_type": "text"
      },
      "cell_type": "markdown",
      "source": [
        "## Fetch data\n",
        "It's done by using scikit-learn."
      ]
    },
    {
      "metadata": {
        "id": "wZjlEf8gbBcR",
        "colab_type": "code",
        "colab": {}
      },
      "cell_type": "code",
      "source": [
        "import time\n",
        "from sklearn.datasets import fetch_20newsgroups\n",
        "data = fetch_20newsgroups(subset='all')\n",
        "targets = [data['target_names'][idx] for idx in data['target']]\n",
        "df = pd.DataFrame({'target':targets, 'text':data['data']})\n",
        "df['article_id'] = df.index"
      ],
      "execution_count": 0,
      "outputs": []
    },
    {
      "metadata": {
        "id": "ctTVorkf_k_m",
        "colab_type": "text"
      },
      "cell_type": "markdown",
      "source": [
        "## Create a table on Treasure Data"
      ]
    },
    {
      "metadata": {
        "id": "uFSEtZlpW9Zx",
        "colab_type": "code",
        "colab": {}
      },
      "cell_type": "code",
      "source": [
        "if use_spark:\n",
        "  client = pytd.Client(database=database, apikey=td_api_key)\n",
        "  client.load_table_from_dataframe(df.reset_index(), '{}.{}'.format(database, table), if_exists='overwrite')\n",
        "else:\n",
        "  if table in [table.name for table in c.tables(database)]:\n",
        "    c.delete_table(database, table)\n",
        "  td.to_td(df, '{}.{}'.format(database, table), con)"
      ],
      "execution_count": 0,
      "outputs": []
    },
    {
      "metadata": {
        "id": "Z_SWvBS3CBx8",
        "colab_type": "text"
      },
      "cell_type": "markdown",
      "source": [
        "# EDA (Explore data analysis)\n",
        "Before executing machine learning tasks, you should understand your data correctly.  \n",
        "Descriptive statistics and visualization are important for this."
      ]
    },
    {
      "metadata": {
        "id": "653K_81wDfpD",
        "colab_type": "text"
      },
      "cell_type": "markdown",
      "source": [
        "## Data Sample"
      ]
    },
    {
      "metadata": {
        "id": "P-xqiuTNDhLG",
        "colab_type": "code",
        "outputId": "8d2d8ca1-0fe8-4662-ebf6-a92dbfba0944",
        "colab": {
          "base_uri": "https://localhost:8080/",
          "height": 111
        }
      },
      "cell_type": "code",
      "source": [
        "td.read_td_query('''\n",
        "select\n",
        "  *\n",
        "from\n",
        "  news20\n",
        "limit 2''', engine=presto)"
      ],
      "execution_count": 24,
      "outputs": [
        {
          "output_type": "execute_result",
          "data": {
            "text/html": [
              "<div>\n",
              "<style scoped>\n",
              "    .dataframe tbody tr th:only-of-type {\n",
              "        vertical-align: middle;\n",
              "    }\n",
              "\n",
              "    .dataframe tbody tr th {\n",
              "        vertical-align: top;\n",
              "    }\n",
              "\n",
              "    .dataframe thead th {\n",
              "        text-align: right;\n",
              "    }\n",
              "</style>\n",
              "<table border=\"1\" class=\"dataframe\">\n",
              "  <thead>\n",
              "    <tr style=\"text-align: right;\">\n",
              "      <th></th>\n",
              "      <th>index</th>\n",
              "      <th>target</th>\n",
              "      <th>text</th>\n",
              "      <th>article_id</th>\n",
              "      <th>time</th>\n",
              "    </tr>\n",
              "  </thead>\n",
              "  <tbody>\n",
              "    <tr>\n",
              "      <th>0</th>\n",
              "      <td>0</td>\n",
              "      <td>rec.sport.hockey</td>\n",
              "      <td>From: Mamatha Devineni Ratnam &lt;mr47+@andrew.cm...</td>\n",
              "      <td>0</td>\n",
              "      <td>1550827797</td>\n",
              "    </tr>\n",
              "    <tr>\n",
              "      <th>1</th>\n",
              "      <td>1</td>\n",
              "      <td>comp.sys.ibm.pc.hardware</td>\n",
              "      <td>From: mblawson@midway.ecn.uoknor.edu (Matthew ...</td>\n",
              "      <td>1</td>\n",
              "      <td>1550827797</td>\n",
              "    </tr>\n",
              "  </tbody>\n",
              "</table>\n",
              "</div>"
            ],
            "text/plain": [
              "   index                    target  \\\n",
              "0      0          rec.sport.hockey   \n",
              "1      1  comp.sys.ibm.pc.hardware   \n",
              "\n",
              "                                                text  article_id        time  \n",
              "0  From: Mamatha Devineni Ratnam <mr47+@andrew.cm...           0  1550827797  \n",
              "1  From: mblawson@midway.ecn.uoknor.edu (Matthew ...           1  1550827797  "
            ]
          },
          "metadata": {
            "tags": []
          },
          "execution_count": 24
        }
      ]
    },
    {
      "metadata": {
        "id": "sp4EWkATEIUH",
        "colab_type": "text"
      },
      "cell_type": "markdown",
      "source": [
        "## Data size"
      ]
    },
    {
      "metadata": {
        "id": "k2TxtnIEEMDj",
        "colab_type": "code",
        "outputId": "59ce3bf4-0a02-49d3-9460-95f670ab2c0f",
        "colab": {
          "base_uri": "https://localhost:8080/",
          "height": 80
        }
      },
      "cell_type": "code",
      "source": [
        "td.read_td_query('''\n",
        "select \n",
        "  count(*) as n_article\n",
        "  ,count(distinct target) as n_class \n",
        "from \n",
        "  news20\n",
        "''', engine=presto)"
      ],
      "execution_count": 25,
      "outputs": [
        {
          "output_type": "execute_result",
          "data": {
            "text/html": [
              "<div>\n",
              "<style scoped>\n",
              "    .dataframe tbody tr th:only-of-type {\n",
              "        vertical-align: middle;\n",
              "    }\n",
              "\n",
              "    .dataframe tbody tr th {\n",
              "        vertical-align: top;\n",
              "    }\n",
              "\n",
              "    .dataframe thead th {\n",
              "        text-align: right;\n",
              "    }\n",
              "</style>\n",
              "<table border=\"1\" class=\"dataframe\">\n",
              "  <thead>\n",
              "    <tr style=\"text-align: right;\">\n",
              "      <th></th>\n",
              "      <th>n_article</th>\n",
              "      <th>n_class</th>\n",
              "    </tr>\n",
              "  </thead>\n",
              "  <tbody>\n",
              "    <tr>\n",
              "      <th>0</th>\n",
              "      <td>18846</td>\n",
              "      <td>20</td>\n",
              "    </tr>\n",
              "  </tbody>\n",
              "</table>\n",
              "</div>"
            ],
            "text/plain": [
              "   n_article  n_class\n",
              "0      18846       20"
            ]
          },
          "metadata": {
            "tags": []
          },
          "execution_count": 25
        }
      ]
    },
    {
      "metadata": {
        "id": "kJeiH5iyCtMY",
        "colab_type": "text"
      },
      "cell_type": "markdown",
      "source": [
        "## Target"
      ]
    },
    {
      "metadata": {
        "id": "Gr9b6YWwCq7w",
        "colab_type": "code",
        "outputId": "bbcf056c-63d4-459c-fb1e-0d367558f08e",
        "colab": {
          "base_uri": "https://localhost:8080/",
          "height": 405
        }
      },
      "cell_type": "code",
      "source": [
        "td.read_td_query('''\n",
        "  select\n",
        "    target\n",
        "    ,count(*) as n\n",
        "  from\n",
        "    news20\n",
        "  group by\n",
        "    1\n",
        "  order by\n",
        "    target\n",
        "'''.format(table=table), engine=presto, index_col='target')['n'].plot.bar()"
      ],
      "execution_count": 26,
      "outputs": [
        {
          "output_type": "execute_result",
          "data": {
            "text/plain": [
              "<matplotlib.axes._subplots.AxesSubplot at 0x7f3703ef8ef0>"
            ]
          },
          "metadata": {
            "tags": []
          },
          "execution_count": 26
        },
        {
          "output_type": "display_data",
          "data": {
            "image/png": "[encoded data removed]",
            "text/plain": [
              "<Figure size 432x288 with 1 Axes>"
            ]
          },
          "metadata": {
            "tags": []
          }
        }
      ]
    },
    {
      "metadata": {
        "id": "nglY9KEqE_8Z",
        "colab_type": "text"
      },
      "cell_type": "markdown",
      "source": [
        "## The number of word for each article"
      ]
    },
    {
      "metadata": {
        "id": "RkRe5SSoFGAy",
        "colab_type": "text"
      },
      "cell_type": "markdown",
      "source": [
        "### Preprocess\n",
        "`tokenize` function splits a text into words.  \n",
        "https://hivemall.incubator.apache.org/userguide/misc/tokenizer.html"
      ]
    },
    {
      "metadata": {
        "id": "TaxWXPA0KPlh",
        "colab_type": "code",
        "outputId": "c1a9a7b0-ab32-45ce-f8aa-705c9d91760b",
        "colab": {
          "base_uri": "https://localhost:8080/",
          "height": 204
        }
      },
      "cell_type": "code",
      "source": [
        "td.read_td_query('''\n",
        "select\n",
        "  target\n",
        "  ,text\n",
        "  ,tokenize(text, true) as tokenized\n",
        "  ,size(tokenize(text, true)) as n_word\n",
        "from\n",
        "  news20\n",
        "limit 5\n",
        "''', engine=hive)"
      ],
      "execution_count": 27,
      "outputs": [
        {
          "output_type": "execute_result",
          "data": {
            "text/html": [
              "<div>\n",
              "<style scoped>\n",
              "    .dataframe tbody tr th:only-of-type {\n",
              "        vertical-align: middle;\n",
              "    }\n",
              "\n",
              "    .dataframe tbody tr th {\n",
              "        vertical-align: top;\n",
              "    }\n",
              "\n",
              "    .dataframe thead th {\n",
              "        text-align: right;\n",
              "    }\n",
              "</style>\n",
              "<table border=\"1\" class=\"dataframe\">\n",
              "  <thead>\n",
              "    <tr style=\"text-align: right;\">\n",
              "      <th></th>\n",
              "      <th>target</th>\n",
              "      <th>text</th>\n",
              "      <th>tokenized</th>\n",
              "      <th>n_word</th>\n",
              "    </tr>\n",
              "  </thead>\n",
              "  <tbody>\n",
              "    <tr>\n",
              "      <th>0</th>\n",
              "      <td>rec.sport.hockey</td>\n",
              "      <td>From: Mamatha Devineni Ratnam &lt;mr47+@andrew.cm...</td>\n",
              "      <td>[from, mamatha, devineni, ratnam, mr47+@andrew...</td>\n",
              "      <td>162</td>\n",
              "    </tr>\n",
              "    <tr>\n",
              "      <th>1</th>\n",
              "      <td>comp.sys.ibm.pc.hardware</td>\n",
              "      <td>From: mblawson@midway.ecn.uoknor.edu (Matthew ...</td>\n",
              "      <td>[from, mblawson@midway, ecn, uoknor, edu, matt...</td>\n",
              "      <td>144</td>\n",
              "    </tr>\n",
              "    <tr>\n",
              "      <th>2</th>\n",
              "      <td>talk.politics.mideast</td>\n",
              "      <td>From: hilmi-er@dsv.su.se (Hilmi Eren)\\nSubject...</td>\n",
              "      <td>[from, hilmi-er@dsv, su, se, hilmi, eren, subj...</td>\n",
              "      <td>616</td>\n",
              "    </tr>\n",
              "    <tr>\n",
              "      <th>3</th>\n",
              "      <td>comp.sys.ibm.pc.hardware</td>\n",
              "      <td>From: guyd@austin.ibm.com (Guy Dawson)\\nSubjec...</td>\n",
              "      <td>[from, guyd@austin, ibm, com, guy, dawson, sub...</td>\n",
              "      <td>527</td>\n",
              "    </tr>\n",
              "    <tr>\n",
              "      <th>4</th>\n",
              "      <td>comp.sys.mac.hardware</td>\n",
              "      <td>From: Alexander Samuel McDiarmid &lt;am2o+@andrew...</td>\n",
              "      <td>[from, alexander, samuel, mcdiarmid, am2o+@and...</td>\n",
              "      <td>157</td>\n",
              "    </tr>\n",
              "  </tbody>\n",
              "</table>\n",
              "</div>"
            ],
            "text/plain": [
              "                     target  \\\n",
              "0          rec.sport.hockey   \n",
              "1  comp.sys.ibm.pc.hardware   \n",
              "2     talk.politics.mideast   \n",
              "3  comp.sys.ibm.pc.hardware   \n",
              "4     comp.sys.mac.hardware   \n",
              "\n",
              "                                                text  \\\n",
              "0  From: Mamatha Devineni Ratnam <mr47+@andrew.cm...   \n",
              "1  From: mblawson@midway.ecn.uoknor.edu (Matthew ...   \n",
              "2  From: hilmi-er@dsv.su.se (Hilmi Eren)\\nSubject...   \n",
              "3  From: guyd@austin.ibm.com (Guy Dawson)\\nSubjec...   \n",
              "4  From: Alexander Samuel McDiarmid <am2o+@andrew...   \n",
              "\n",
              "                                           tokenized  n_word  \n",
              "0  [from, mamatha, devineni, ratnam, mr47+@andrew...     162  \n",
              "1  [from, mblawson@midway, ecn, uoknor, edu, matt...     144  \n",
              "2  [from, hilmi-er@dsv, su, se, hilmi, eren, subj...     616  \n",
              "3  [from, guyd@austin, ibm, com, guy, dawson, sub...     527  \n",
              "4  [from, alexander, samuel, mcdiarmid, am2o+@and...     157  "
            ]
          },
          "metadata": {
            "tags": []
          },
          "execution_count": 27
        }
      ]
    },
    {
      "metadata": {
        "id": "IAl2fNlSTp8A",
        "colab_type": "text"
      },
      "cell_type": "markdown",
      "source": [
        "### View data"
      ]
    },
    {
      "metadata": {
        "id": "m8_DlKJ0Lc8N",
        "colab_type": "code",
        "outputId": "7ef1b703-734c-409b-fd68-0dcfad4e328f",
        "colab": {
          "base_uri": "https://localhost:8080/",
          "height": 297
        }
      },
      "cell_type": "code",
      "source": [
        "td.read_td_query('''\n",
        "  select\n",
        "    size(tokenize(text, true)) as n_word\n",
        "  from\n",
        "    news20\n",
        "''', engine=hive).describe()"
      ],
      "execution_count": 28,
      "outputs": [
        {
          "output_type": "execute_result",
          "data": {
            "text/html": [
              "<div>\n",
              "<style scoped>\n",
              "    .dataframe tbody tr th:only-of-type {\n",
              "        vertical-align: middle;\n",
              "    }\n",
              "\n",
              "    .dataframe tbody tr th {\n",
              "        vertical-align: top;\n",
              "    }\n",
              "\n",
              "    .dataframe thead th {\n",
              "        text-align: right;\n",
              "    }\n",
              "</style>\n",
              "<table border=\"1\" class=\"dataframe\">\n",
              "  <thead>\n",
              "    <tr style=\"text-align: right;\">\n",
              "      <th></th>\n",
              "      <th>n_word</th>\n",
              "    </tr>\n",
              "  </thead>\n",
              "  <tbody>\n",
              "    <tr>\n",
              "      <th>count</th>\n",
              "      <td>18846.000000</td>\n",
              "    </tr>\n",
              "    <tr>\n",
              "      <th>mean</th>\n",
              "      <td>310.510665</td>\n",
              "    </tr>\n",
              "    <tr>\n",
              "      <th>std</th>\n",
              "      <td>690.912549</td>\n",
              "    </tr>\n",
              "    <tr>\n",
              "      <th>min</th>\n",
              "      <td>15.000000</td>\n",
              "    </tr>\n",
              "    <tr>\n",
              "      <th>25%</th>\n",
              "      <td>117.000000</td>\n",
              "    </tr>\n",
              "    <tr>\n",
              "      <th>50%</th>\n",
              "      <td>187.000000</td>\n",
              "    </tr>\n",
              "    <tr>\n",
              "      <th>75%</th>\n",
              "      <td>307.000000</td>\n",
              "    </tr>\n",
              "    <tr>\n",
              "      <th>max</th>\n",
              "      <td>31621.000000</td>\n",
              "    </tr>\n",
              "  </tbody>\n",
              "</table>\n",
              "</div>"
            ],
            "text/plain": [
              "             n_word\n",
              "count  18846.000000\n",
              "mean     310.510665\n",
              "std      690.912549\n",
              "min       15.000000\n",
              "25%      117.000000\n",
              "50%      187.000000\n",
              "75%      307.000000\n",
              "max    31621.000000"
            ]
          },
          "metadata": {
            "tags": []
          },
          "execution_count": 28
        }
      ]
    },
    {
      "metadata": {
        "id": "-NzGjoULL5Hi",
        "colab_type": "code",
        "outputId": "79b4af29-49e7-46d6-f7a3-30ec8db8930f",
        "colab": {
          "base_uri": "https://localhost:8080/",
          "height": 314
        }
      },
      "cell_type": "code",
      "source": [
        "td.read_td_query('''\n",
        "  select\n",
        "    size(tokenize(text, true)) as n_word\n",
        "  from\n",
        "    news20\n",
        "''', engine=hive).hist(range=(0,500), bins=50)"
      ],
      "execution_count": 29,
      "outputs": [
        {
          "output_type": "execute_result",
          "data": {
            "text/plain": [
              "array([[<matplotlib.axes._subplots.AxesSubplot object at 0x7f37180ac438>]],\n",
              "      dtype=object)"
            ]
          },
          "metadata": {
            "tags": []
          },
          "execution_count": 29
        },
        {
          "output_type": "display_data",
          "data": {
            "image/png": "[encoded data removed]",
            "text/plain": [
              "<Figure size 432x288 with 1 Axes>"
            ]
          },
          "metadata": {
            "tags": []
          }
        }
      ]
    },
    {
      "metadata": {
        "id": "uHx7bcsnL8k8",
        "colab_type": "code",
        "colab": {}
      },
      "cell_type": "code",
      "source": [
        "data = td.read_td_query('''\n",
        "  select\n",
        "    target\n",
        "    ,avg(size(tokenize(text, true))) as average\n",
        "    ,variance(size(tokenize(text, true))) as variance\n",
        "  from\n",
        "    news20\n",
        "  group by\n",
        "    1\n",
        "  order by\n",
        "    1\n",
        "''', engine=hive, index_col='target')"
      ],
      "execution_count": 0,
      "outputs": []
    },
    {
      "metadata": {
        "id": "TRA5ud7bOfUw",
        "colab_type": "code",
        "outputId": "25f72f50-6952-480f-e99d-ad951ecbcbf7",
        "colab": {
          "base_uri": "https://localhost:8080/",
          "height": 405
        }
      },
      "cell_type": "code",
      "source": [
        "data['average'].plot.bar()"
      ],
      "execution_count": 31,
      "outputs": [
        {
          "output_type": "execute_result",
          "data": {
            "text/plain": [
              "<matplotlib.axes._subplots.AxesSubplot at 0x7f3703c70198>"
            ]
          },
          "metadata": {
            "tags": []
          },
          "execution_count": 31
        },
        {
          "output_type": "display_data",
          "data": {
            "image/png": "[encoded data removed]",
            "text/plain": [
              "<Figure size 432x288 with 1 Axes>"
            ]
          },
          "metadata": {
            "tags": []
          }
        }
      ]
    },
    {
      "metadata": {
        "id": "IdtJODMyaleN",
        "colab_type": "text"
      },
      "cell_type": "markdown",
      "source": [
        "# Run machine learning task"
      ]
    },
    {
      "metadata": {
        "id": "_ansLQKXgO1k",
        "colab_type": "text"
      },
      "cell_type": "markdown",
      "source": [
        "## Tokenize text"
      ]
    },
    {
      "metadata": {
        "id": "SA8l4sncckSQ",
        "colab_type": "code",
        "colab": {
          "base_uri": "https://localhost:8080/",
          "height": 34
        },
        "outputId": "7c9681bf-b5ec-4ed1-aebb-b1c9dc9131a5"
      },
      "cell_type": "code",
      "source": [
        "if 'news20_text_parsed' in [table.name for table in c.tables(database)]:\n",
        "  c.delete_table(database, 'news20_text_parsed')\n",
        "c.create_log_table(database, 'news20_text_parsed')"
      ],
      "execution_count": 32,
      "outputs": [
        {
          "output_type": "execute_result",
          "data": {
            "text/plain": [
              "True"
            ]
          },
          "metadata": {
            "tags": []
          },
          "execution_count": 32
        }
      ]
    },
    {
      "metadata": {
        "id": "bPKlEyR60D8l",
        "colab_type": "text"
      },
      "cell_type": "markdown",
      "source": [
        "This query will take a long time (about 20 min)"
      ]
    },
    {
      "metadata": {
        "id": "0UJSu09ic7MA",
        "colab_type": "code",
        "outputId": "7c02e502-44ce-4bb9-a3d8-987d80110cee",
        "colab": {
          "base_uri": "https://localhost:8080/",
          "height": 136
        }
      },
      "cell_type": "code",
      "source": [
        "td.read_td_query('''\n",
        "insert into table news20_text_parsed\n",
        "select\n",
        "  article_id\n",
        "  ,target\n",
        "  ,text\n",
        "  ,word\n",
        "  ,count(*) as n\n",
        "from\n",
        "  news20  \n",
        "lateral view\n",
        "  explode(tokenize(text, true)) t as word\n",
        "group by\n",
        "  1,2,3,4\n",
        "''', engine=hive)"
      ],
      "execution_count": 33,
      "outputs": [
        {
          "output_type": "display_data",
          "data": {
            "text/html": [
              "<div style=\"border-style: dashed; border-width: 1px;\">\n",
              "<div style=\"color: #888;\"># issued at 2019-02-22T09:33:35Z</div>URL: <a href=\"https://console.treasuredata.com/jobs/418106627\" target=\"_blank\">https://console.treasuredata.com/jobs/418106627</a><br>\n",
              "Result size: 20 bytes<br>\n",
              "Download: 20 / 20 bytes (100.00%)<br>\n",
              "<div style=\"color: #888;\"># downloaded at 2019-02-22T10:07:48Z</div></div>\n"
            ],
            "text/plain": [
              "<IPython.core.display.HTML object>"
            ]
          },
          "metadata": {
            "tags": []
          }
        },
        {
          "output_type": "execute_result",
          "data": {
            "text/html": [
              "<div>\n",
              "<style scoped>\n",
              "    .dataframe tbody tr th:only-of-type {\n",
              "        vertical-align: middle;\n",
              "    }\n",
              "\n",
              "    .dataframe tbody tr th {\n",
              "        vertical-align: top;\n",
              "    }\n",
              "\n",
              "    .dataframe thead th {\n",
              "        text-align: right;\n",
              "    }\n",
              "</style>\n",
              "<table border=\"1\" class=\"dataframe\">\n",
              "  <thead>\n",
              "    <tr style=\"text-align: right;\">\n",
              "      <th></th>\n",
              "      <th>article_id</th>\n",
              "      <th>target</th>\n",
              "      <th>text</th>\n",
              "      <th>word</th>\n",
              "      <th>n</th>\n",
              "    </tr>\n",
              "  </thead>\n",
              "  <tbody>\n",
              "  </tbody>\n",
              "</table>\n",
              "</div>"
            ],
            "text/plain": [
              "Empty DataFrame\n",
              "Columns: [article_id, target, text, word, n]\n",
              "Index: []"
            ]
          },
          "metadata": {
            "tags": []
          },
          "execution_count": 33
        }
      ]
    },
    {
      "metadata": {
        "id": "bih-TGgQLPTp",
        "colab_type": "text"
      },
      "cell_type": "markdown",
      "source": [
        "Check the created table."
      ]
    },
    {
      "metadata": {
        "id": "QIzf73kSnunq",
        "colab_type": "code",
        "colab": {
          "base_uri": "https://localhost:8080/",
          "height": 204
        },
        "outputId": "d3b1ce7b-754d-4eb4-9bde-f6c025f33634"
      },
      "cell_type": "code",
      "source": [
        "td.read_td_query('''\n",
        "select\n",
        "  *\n",
        "from\n",
        "  news20_text_parsed\n",
        "order by\n",
        "  n desc\n",
        "limit 5\n",
        "''', engine=presto)"
      ],
      "execution_count": 34,
      "outputs": [
        {
          "output_type": "execute_result",
          "data": {
            "text/html": [
              "<div>\n",
              "<style scoped>\n",
              "    .dataframe tbody tr th:only-of-type {\n",
              "        vertical-align: middle;\n",
              "    }\n",
              "\n",
              "    .dataframe tbody tr th {\n",
              "        vertical-align: top;\n",
              "    }\n",
              "\n",
              "    .dataframe thead th {\n",
              "        text-align: right;\n",
              "    }\n",
              "</style>\n",
              "<table border=\"1\" class=\"dataframe\">\n",
              "  <thead>\n",
              "    <tr style=\"text-align: right;\">\n",
              "      <th></th>\n",
              "      <th>article_id</th>\n",
              "      <th>target</th>\n",
              "      <th>text</th>\n",
              "      <th>word</th>\n",
              "      <th>n</th>\n",
              "      <th>time</th>\n",
              "    </tr>\n",
              "  </thead>\n",
              "  <tbody>\n",
              "    <tr>\n",
              "      <th>0</th>\n",
              "      <td>12042</td>\n",
              "      <td>comp.os.ms-windows.misc</td>\n",
              "      <td>Subject: roman.bmp 12/14 \\nFrom: pwiseman@salm...</td>\n",
              "      <td>ax</td>\n",
              "      <td>11142</td>\n",
              "      <td>1550828015</td>\n",
              "    </tr>\n",
              "    <tr>\n",
              "      <th>1</th>\n",
              "      <td>7829</td>\n",
              "      <td>comp.os.ms-windows.misc</td>\n",
              "      <td>Subject: roman.bmp 13/14\\nFrom: pwiseman@salmo...</td>\n",
              "      <td>ax</td>\n",
              "      <td>9632</td>\n",
              "      <td>1550828015</td>\n",
              "    </tr>\n",
              "    <tr>\n",
              "      <th>2</th>\n",
              "      <td>5017</td>\n",
              "      <td>comp.os.ms-windows.misc</td>\n",
              "      <td>Subject: roman.bmp 11/14 \\nFrom: pwiseman@salm...</td>\n",
              "      <td>ax</td>\n",
              "      <td>9152</td>\n",
              "      <td>1550828015</td>\n",
              "    </tr>\n",
              "    <tr>\n",
              "      <th>3</th>\n",
              "      <td>8452</td>\n",
              "      <td>comp.os.ms-windows.misc</td>\n",
              "      <td>Subject: roman.bmp 07/14\\nFrom: pwiseman@salmo...</td>\n",
              "      <td>ax</td>\n",
              "      <td>7636</td>\n",
              "      <td>1550828015</td>\n",
              "    </tr>\n",
              "    <tr>\n",
              "      <th>4</th>\n",
              "      <td>9443</td>\n",
              "      <td>comp.os.ms-windows.misc</td>\n",
              "      <td>Subject: roman.bmp 08/14\\nFrom: pwiseman@salmo...</td>\n",
              "      <td>ax</td>\n",
              "      <td>5971</td>\n",
              "      <td>1550828015</td>\n",
              "    </tr>\n",
              "  </tbody>\n",
              "</table>\n",
              "</div>"
            ],
            "text/plain": [
              "   article_id                   target  \\\n",
              "0       12042  comp.os.ms-windows.misc   \n",
              "1        7829  comp.os.ms-windows.misc   \n",
              "2        5017  comp.os.ms-windows.misc   \n",
              "3        8452  comp.os.ms-windows.misc   \n",
              "4        9443  comp.os.ms-windows.misc   \n",
              "\n",
              "                                                text word      n        time  \n",
              "0  Subject: roman.bmp 12/14 \\nFrom: pwiseman@salm...   ax  11142  1550828015  \n",
              "1  Subject: roman.bmp 13/14\\nFrom: pwiseman@salmo...   ax   9632  1550828015  \n",
              "2  Subject: roman.bmp 11/14 \\nFrom: pwiseman@salm...   ax   9152  1550828015  \n",
              "3  Subject: roman.bmp 07/14\\nFrom: pwiseman@salmo...   ax   7636  1550828015  \n",
              "4  Subject: roman.bmp 08/14\\nFrom: pwiseman@salmo...   ax   5971  1550828015  "
            ]
          },
          "metadata": {
            "tags": []
          },
          "execution_count": 34
        }
      ]
    },
    {
      "metadata": {
        "id": "-NKhX6MMnyY6",
        "colab_type": "text"
      },
      "cell_type": "markdown",
      "source": [
        "## Add weight with td-idf\n",
        "You can use `n` as weight of each word, but there is a better way.  \n",
        "TD-IDF is a value representing the importance of word in each texts.  \n",
        "[Wikipedia of tf-idf in English](https://en.wikipedia.org/wiki/Tf%E2%80%93idf)  \n",
        "[Wikipedia of tf-idf in Japanese](https://ja.wikipedia.org/wiki/Tf-idf)\n"
      ]
    },
    {
      "metadata": {
        "id": "GQwGdwWLrXh_",
        "colab_type": "code",
        "outputId": "a16c9efd-9957-42de-e950-81a3ac45f4c9",
        "colab": {
          "base_uri": "https://localhost:8080/",
          "height": 34
        }
      },
      "cell_type": "code",
      "source": [
        "if 'news20_tfidf_added' in [table.name for table in c.tables(database)]:\n",
        "  c.delete_table(database, 'news20_tfidf_added')\n",
        "c.create_log_table(database, 'news20_tfidf_added')"
      ],
      "execution_count": 35,
      "outputs": [
        {
          "output_type": "execute_result",
          "data": {
            "text/plain": [
              "True"
            ]
          },
          "metadata": {
            "tags": []
          },
          "execution_count": 35
        }
      ]
    },
    {
      "metadata": {
        "id": "HOKzFBJX0MyW",
        "colab_type": "text"
      },
      "cell_type": "markdown",
      "source": [
        "This query will take a long time (about 20 min)"
      ]
    },
    {
      "metadata": {
        "id": "VU-tTUgKoRhl",
        "colab_type": "code",
        "outputId": "20a78ce8-f849-47b4-e68b-d96e0b8f5e5b",
        "colab": {
          "base_uri": "https://localhost:8080/",
          "height": 80
        }
      },
      "cell_type": "code",
      "source": [
        "td.read_td_query('''\n",
        "insert into news20_tfidf_added \n",
        "with tf as (\n",
        "  select\n",
        "    article_id\n",
        "    ,word\n",
        "    ,cast(count(*) as double) / sum(count(*)) over(partition by article_id) as tf\n",
        "  from\n",
        "    news20_text_parsed\n",
        "  group by\n",
        "    1,2\n",
        ")\n",
        "\n",
        ",df as (\n",
        "  select\n",
        "    word\n",
        "    ,cast(count(distinct article_id) as double) / (select count(distinct article_id) from news20_text_parsed) as df\n",
        "  from\n",
        "    news20_text_parsed\n",
        "  group by\n",
        "    1\n",
        ")\n",
        "\n",
        "select\n",
        "  t.article_id\n",
        "  ,t.target\n",
        "  ,t.text\n",
        "  ,replace(t.word, ':|#', '') as word -- remove \":\" and \"#\"\n",
        "  ,t.n\n",
        "  ,tf.tf * ln(power(df.df, -1)) as tfidf\n",
        "from\n",
        "  news20_text_parsed t\n",
        "  inner join\n",
        "  tf\n",
        "  on\n",
        "    t.article_id = tf.article_id\n",
        "    and\n",
        "    t.word = tf.word\n",
        "  inner join\n",
        "  df\n",
        "  on\n",
        "    t.word = df.word\n",
        "''', engine=presto)"
      ],
      "execution_count": 36,
      "outputs": [
        {
          "output_type": "execute_result",
          "data": {
            "text/html": [
              "<div>\n",
              "<style scoped>\n",
              "    .dataframe tbody tr th:only-of-type {\n",
              "        vertical-align: middle;\n",
              "    }\n",
              "\n",
              "    .dataframe tbody tr th {\n",
              "        vertical-align: top;\n",
              "    }\n",
              "\n",
              "    .dataframe thead th {\n",
              "        text-align: right;\n",
              "    }\n",
              "</style>\n",
              "<table border=\"1\" class=\"dataframe\">\n",
              "  <thead>\n",
              "    <tr style=\"text-align: right;\">\n",
              "      <th></th>\n",
              "      <th>rows</th>\n",
              "    </tr>\n",
              "  </thead>\n",
              "  <tbody>\n",
              "    <tr>\n",
              "      <th>0</th>\n",
              "      <td>3094185</td>\n",
              "    </tr>\n",
              "  </tbody>\n",
              "</table>\n",
              "</div>"
            ],
            "text/plain": [
              "      rows\n",
              "0  3094185"
            ]
          },
          "metadata": {
            "tags": []
          },
          "execution_count": 36
        }
      ]
    },
    {
      "metadata": {
        "id": "d8fXyCTULVyf",
        "colab_type": "text"
      },
      "cell_type": "markdown",
      "source": [
        "Check the created table."
      ]
    },
    {
      "metadata": {
        "id": "cGmZGRPh4jNX",
        "colab_type": "code",
        "colab": {
          "base_uri": "https://localhost:8080/",
          "height": 204
        },
        "outputId": "e5c9d8f5-ee45-4c0a-cf1b-f9e6c89657bd"
      },
      "cell_type": "code",
      "source": [
        "td.read_td_query('''\n",
        "select\n",
        "  *\n",
        "from\n",
        "  news20_tfidf_added\n",
        "order by\n",
        "  tfidf desc\n",
        "limit 5\n",
        "''', engine=presto)"
      ],
      "execution_count": 37,
      "outputs": [
        {
          "output_type": "execute_result",
          "data": {
            "text/html": [
              "<div>\n",
              "<style scoped>\n",
              "    .dataframe tbody tr th:only-of-type {\n",
              "        vertical-align: middle;\n",
              "    }\n",
              "\n",
              "    .dataframe tbody tr th {\n",
              "        vertical-align: top;\n",
              "    }\n",
              "\n",
              "    .dataframe thead th {\n",
              "        text-align: right;\n",
              "    }\n",
              "</style>\n",
              "<table border=\"1\" class=\"dataframe\">\n",
              "  <thead>\n",
              "    <tr style=\"text-align: right;\">\n",
              "      <th></th>\n",
              "      <th>article_id</th>\n",
              "      <th>target</th>\n",
              "      <th>text</th>\n",
              "      <th>word</th>\n",
              "      <th>n</th>\n",
              "      <th>tfidf</th>\n",
              "      <th>time</th>\n",
              "    </tr>\n",
              "  </thead>\n",
              "  <tbody>\n",
              "    <tr>\n",
              "      <th>0</th>\n",
              "      <td>16653</td>\n",
              "      <td>alt.atheism</td>\n",
              "      <td>From: Edwin Gans\\nSubject: Atheism\\nNntp-Posti...</td>\n",
              "      <td>gans</td>\n",
              "      <td>1</td>\n",
              "      <td>0.656270</td>\n",
              "      <td>1550830126</td>\n",
              "    </tr>\n",
              "    <tr>\n",
              "      <th>1</th>\n",
              "      <td>6426</td>\n",
              "      <td>comp.windows.x</td>\n",
              "      <td>From: skji@eve.kaist.ac.KR (Ji SoonKi)\\nSubjec...</td>\n",
              "      <td>soonki</td>\n",
              "      <td>1</td>\n",
              "      <td>0.615253</td>\n",
              "      <td>1550830126</td>\n",
              "    </tr>\n",
              "    <tr>\n",
              "      <th>2</th>\n",
              "      <td>6426</td>\n",
              "      <td>comp.windows.x</td>\n",
              "      <td>From: skji@eve.kaist.ac.KR (Ji SoonKi)\\nSubjec...</td>\n",
              "      <td>skji@eve</td>\n",
              "      <td>2</td>\n",
              "      <td>0.615253</td>\n",
              "      <td>1550830126</td>\n",
              "    </tr>\n",
              "    <tr>\n",
              "      <th>3</th>\n",
              "      <td>15892</td>\n",
              "      <td>comp.sys.mac.hardware</td>\n",
              "      <td>From: kwgst+@pitt.edu (Mr. Someone)\\nSubject: ...</td>\n",
              "      <td>pre-ee</td>\n",
              "      <td>1</td>\n",
              "      <td>0.579062</td>\n",
              "      <td>1550830126</td>\n",
              "    </tr>\n",
              "    <tr>\n",
              "      <th>4</th>\n",
              "      <td>17438</td>\n",
              "      <td>talk.politics.misc</td>\n",
              "      <td>Organization: Arizona State University\\nFrom: ...</td>\n",
              "      <td>cxnbk@asuacad</td>\n",
              "      <td>1</td>\n",
              "      <td>0.579062</td>\n",
              "      <td>1550830126</td>\n",
              "    </tr>\n",
              "  </tbody>\n",
              "</table>\n",
              "</div>"
            ],
            "text/plain": [
              "   article_id                 target  \\\n",
              "0       16653            alt.atheism   \n",
              "1        6426         comp.windows.x   \n",
              "2        6426         comp.windows.x   \n",
              "3       15892  comp.sys.mac.hardware   \n",
              "4       17438     talk.politics.misc   \n",
              "\n",
              "                                                text           word  n  \\\n",
              "0  From: Edwin Gans\\nSubject: Atheism\\nNntp-Posti...           gans  1   \n",
              "1  From: skji@eve.kaist.ac.KR (Ji SoonKi)\\nSubjec...         soonki  1   \n",
              "2  From: skji@eve.kaist.ac.KR (Ji SoonKi)\\nSubjec...       skji@eve  2   \n",
              "3  From: kwgst+@pitt.edu (Mr. Someone)\\nSubject: ...         pre-ee  1   \n",
              "4  Organization: Arizona State University\\nFrom: ...  cxnbk@asuacad  1   \n",
              "\n",
              "      tfidf        time  \n",
              "0  0.656270  1550830126  \n",
              "1  0.615253  1550830126  \n",
              "2  0.615253  1550830126  \n",
              "3  0.579062  1550830126  \n",
              "4  0.579062  1550830126  "
            ]
          },
          "metadata": {
            "tags": []
          },
          "execution_count": 37
        }
      ]
    },
    {
      "metadata": {
        "id": "FWvT90Jgswq3",
        "colab_type": "text"
      },
      "cell_type": "markdown",
      "source": [
        "## Aggregate data and split into training data and test data\n",
        "The data is splitted into training data and test data.  \n",
        "Articles whose article_id's ones place in 7 or 8 or 9 are assigned to test data,  \n",
        "others are assigned to training data.  \n",
        "Machine learning model is created by training data, and it's evaluated by test data.\n",
        "\n",
        "Also, data is aggregated so as to 1 record / 1 article."
      ]
    },
    {
      "metadata": {
        "id": "8OBA58Ul0XXQ",
        "colab_type": "code",
        "colab": {
          "base_uri": "https://localhost:8080/",
          "height": 34
        },
        "outputId": "817b1de6-f1eb-4624-dabd-a9d3a7766273"
      },
      "cell_type": "code",
      "source": [
        "if 'news20_aggregate' in [table.name for table in c.tables(database)]:\n",
        "  c.delete_table(database, 'news20_aggregate')\n",
        "c.create_log_table(database, 'news20_aggregate')"
      ],
      "execution_count": 38,
      "outputs": [
        {
          "output_type": "execute_result",
          "data": {
            "text/plain": [
              "True"
            ]
          },
          "metadata": {
            "tags": []
          },
          "execution_count": 38
        }
      ]
    },
    {
      "metadata": {
        "id": "TFbT4PgQxT7d",
        "colab_type": "code",
        "colab": {
          "base_uri": "https://localhost:8080/",
          "height": 136
        },
        "outputId": "46b65efe-bba2-410b-b5d8-f5f207d407ef"
      },
      "cell_type": "code",
      "source": [
        "td.read_td_query('''\n",
        "insert overwrite table news20_aggregate\n",
        "select\n",
        "  article_id\n",
        "  ,target\n",
        "  ,case when article_id % 10 in (7,8,9) then 'test' else 'train' end as class\n",
        "  ,collect_set(feature(word, tfidf)) as word_with_weight\n",
        "  ,sum(n) as n_word\n",
        "from\n",
        "  news20_tfidf_added\n",
        "group by\n",
        "  1,2\n",
        "''', engine=hive)"
      ],
      "execution_count": 39,
      "outputs": [
        {
          "output_type": "display_data",
          "data": {
            "text/html": [
              "<div style=\"border-style: dashed; border-width: 1px;\">\n",
              "<div style=\"color: #888;\"># issued at 2019-02-22T10:13:53Z</div>URL: <a href=\"https://console.treasuredata.com/jobs/418122702\" target=\"_blank\">https://console.treasuredata.com/jobs/418122702</a><br>\n",
              "Result size: 20 bytes<br>\n",
              "Download: 20 / 20 bytes (100.00%)<br>\n",
              "<div style=\"color: #888;\"># downloaded at 2019-02-22T10:14:46Z</div></div>\n"
            ],
            "text/plain": [
              "<IPython.core.display.HTML object>"
            ]
          },
          "metadata": {
            "tags": []
          }
        },
        {
          "output_type": "execute_result",
          "data": {
            "text/html": [
              "<div>\n",
              "<style scoped>\n",
              "    .dataframe tbody tr th:only-of-type {\n",
              "        vertical-align: middle;\n",
              "    }\n",
              "\n",
              "    .dataframe tbody tr th {\n",
              "        vertical-align: top;\n",
              "    }\n",
              "\n",
              "    .dataframe thead th {\n",
              "        text-align: right;\n",
              "    }\n",
              "</style>\n",
              "<table border=\"1\" class=\"dataframe\">\n",
              "  <thead>\n",
              "    <tr style=\"text-align: right;\">\n",
              "      <th></th>\n",
              "      <th>article_id</th>\n",
              "      <th>target</th>\n",
              "      <th>class</th>\n",
              "      <th>word_with_weight</th>\n",
              "      <th>n_word</th>\n",
              "    </tr>\n",
              "  </thead>\n",
              "  <tbody>\n",
              "  </tbody>\n",
              "</table>\n",
              "</div>"
            ],
            "text/plain": [
              "Empty DataFrame\n",
              "Columns: [article_id, target, class, word_with_weight, n_word]\n",
              "Index: []"
            ]
          },
          "metadata": {
            "tags": []
          },
          "execution_count": 39
        }
      ]
    },
    {
      "metadata": {
        "id": "AQ-r22QWLk8S",
        "colab_type": "text"
      },
      "cell_type": "markdown",
      "source": [
        "Check the created table."
      ]
    },
    {
      "metadata": {
        "id": "cBSlvMFV4cbX",
        "colab_type": "code",
        "colab": {
          "base_uri": "https://localhost:8080/",
          "height": 204
        },
        "outputId": "9067e31f-b036-49ee-83ed-6e45d5a440f9"
      },
      "cell_type": "code",
      "source": [
        "td.read_td_query('''\n",
        "select\n",
        "  *\n",
        "from\n",
        "  news20_aggregate\n",
        "limit 5\n",
        "''', engine=presto)"
      ],
      "execution_count": 40,
      "outputs": [
        {
          "output_type": "execute_result",
          "data": {
            "text/html": [
              "<div>\n",
              "<style scoped>\n",
              "    .dataframe tbody tr th:only-of-type {\n",
              "        vertical-align: middle;\n",
              "    }\n",
              "\n",
              "    .dataframe tbody tr th {\n",
              "        vertical-align: top;\n",
              "    }\n",
              "\n",
              "    .dataframe thead th {\n",
              "        text-align: right;\n",
              "    }\n",
              "</style>\n",
              "<table border=\"1\" class=\"dataframe\">\n",
              "  <thead>\n",
              "    <tr style=\"text-align: right;\">\n",
              "      <th></th>\n",
              "      <th>article_id</th>\n",
              "      <th>target</th>\n",
              "      <th>class</th>\n",
              "      <th>word_with_weight</th>\n",
              "      <th>n_word</th>\n",
              "      <th>time</th>\n",
              "    </tr>\n",
              "  </thead>\n",
              "  <tbody>\n",
              "    <tr>\n",
              "      <th>0</th>\n",
              "      <td>2</td>\n",
              "      <td>talk.politics.mideast</td>\n",
              "      <td>train</td>\n",
              "      <td>[one:0.003444610544738086, tortured:0.02035440...</td>\n",
              "      <td>616</td>\n",
              "      <td>1550830433</td>\n",
              "    </tr>\n",
              "    <tr>\n",
              "      <th>1</th>\n",
              "      <td>20</td>\n",
              "      <td>rec.autos</td>\n",
              "      <td>train</td>\n",
              "      <td>[never:0.008982596476172285, begin:0.017396486...</td>\n",
              "      <td>406</td>\n",
              "      <td>1550830433</td>\n",
              "    </tr>\n",
              "    <tr>\n",
              "      <th>2</th>\n",
              "      <td>22</td>\n",
              "      <td>comp.graphics</td>\n",
              "      <td>train</td>\n",
              "      <td>[posting:0.024547637995487346, imagine:0.03011...</td>\n",
              "      <td>194</td>\n",
              "      <td>1550830433</td>\n",
              "    </tr>\n",
              "    <tr>\n",
              "      <th>3</th>\n",
              "      <td>25</td>\n",
              "      <td>sci.space</td>\n",
              "      <td>train</td>\n",
              "      <td>[auspices:0.14117480776521574, under:0.0441177...</td>\n",
              "      <td>68</td>\n",
              "      <td>1550830433</td>\n",
              "    </tr>\n",
              "    <tr>\n",
              "      <th>4</th>\n",
              "      <td>28</td>\n",
              "      <td>misc.forsale</td>\n",
              "      <td>test</td>\n",
              "      <td>[card:0.01778179257999286, sale:0.018412630857...</td>\n",
              "      <td>239</td>\n",
              "      <td>1550830433</td>\n",
              "    </tr>\n",
              "  </tbody>\n",
              "</table>\n",
              "</div>"
            ],
            "text/plain": [
              "   article_id                 target  class  \\\n",
              "0           2  talk.politics.mideast  train   \n",
              "1          20              rec.autos  train   \n",
              "2          22          comp.graphics  train   \n",
              "3          25              sci.space  train   \n",
              "4          28           misc.forsale   test   \n",
              "\n",
              "                                    word_with_weight  n_word        time  \n",
              "0  [one:0.003444610544738086, tortured:0.02035440...     616  1550830433  \n",
              "1  [never:0.008982596476172285, begin:0.017396486...     406  1550830433  \n",
              "2  [posting:0.024547637995487346, imagine:0.03011...     194  1550830433  \n",
              "3  [auspices:0.14117480776521574, under:0.0441177...      68  1550830433  \n",
              "4  [card:0.01778179257999286, sale:0.018412630857...     239  1550830433  "
            ]
          },
          "metadata": {
            "tags": []
          },
          "execution_count": 40
        }
      ]
    },
    {
      "metadata": {
        "id": "ead3qFUr4OFh",
        "colab_type": "text"
      },
      "cell_type": "markdown",
      "source": [
        "## Convert data into Hivemall input format"
      ]
    },
    {
      "metadata": {
        "id": "PMRByP5Y33Wt",
        "colab_type": "code",
        "colab": {
          "base_uri": "https://localhost:8080/",
          "height": 34
        },
        "outputId": "9d7d302e-d0c3-4906-e940-8d2674071fdf"
      },
      "cell_type": "code",
      "source": [
        "if 'news20_train_data' in [table.name for table in c.tables(database)]:\n",
        "  c.delete_table(database, 'news20_train_data')\n",
        "c.create_log_table(database, 'news20_train_data')"
      ],
      "execution_count": 41,
      "outputs": [
        {
          "output_type": "execute_result",
          "data": {
            "text/plain": [
              "True"
            ]
          },
          "metadata": {
            "tags": []
          },
          "execution_count": 41
        }
      ]
    },
    {
      "metadata": {
        "id": "FEgVckxa19OZ",
        "colab_type": "code",
        "colab": {
          "base_uri": "https://localhost:8080/",
          "height": 136
        },
        "outputId": "11ecd3f5-feb4-442a-f09c-2cf31bb04fee"
      },
      "cell_type": "code",
      "source": [
        "td.read_td_query('''\n",
        "insert overwrite table news20_train_data\n",
        "select\n",
        "  article_id\n",
        "  ,target\n",
        "  ,(dense_rank() over(order by target)) - 1 as target_id\n",
        "  ,class\n",
        "  ,word_with_weight\n",
        "  ,n_word\n",
        "  ,array_concat(feature_hashing(word_with_weight, '-features 1000'), array(feature(1001, n_word))) as sparse_features \n",
        "  ,to_dense_features(array_concat(feature_hashing(word_with_weight, '-features 1000'), array(feature(1001, n_word))), 1001) as dense_features \n",
        "from\n",
        "  news20_aggregate\n",
        "''', engine=hive)"
      ],
      "execution_count": 42,
      "outputs": [
        {
          "output_type": "display_data",
          "data": {
            "text/html": [
              "<div style=\"border-style: dashed; border-width: 1px;\">\n",
              "<div style=\"color: #888;\"># issued at 2019-02-22T10:14:49Z</div>URL: <a href=\"https://console.treasuredata.com/jobs/418123050\" target=\"_blank\">https://console.treasuredata.com/jobs/418123050</a><br>\n",
              "Result size: 20 bytes<br>\n",
              "Download: 20 / 20 bytes (100.00%)<br>\n",
              "<div style=\"color: #888;\"># downloaded at 2019-02-22T10:15:48Z</div></div>\n"
            ],
            "text/plain": [
              "<IPython.core.display.HTML object>"
            ]
          },
          "metadata": {
            "tags": []
          }
        },
        {
          "output_type": "execute_result",
          "data": {
            "text/html": [
              "<div>\n",
              "<style scoped>\n",
              "    .dataframe tbody tr th:only-of-type {\n",
              "        vertical-align: middle;\n",
              "    }\n",
              "\n",
              "    .dataframe tbody tr th {\n",
              "        vertical-align: top;\n",
              "    }\n",
              "\n",
              "    .dataframe thead th {\n",
              "        text-align: right;\n",
              "    }\n",
              "</style>\n",
              "<table border=\"1\" class=\"dataframe\">\n",
              "  <thead>\n",
              "    <tr style=\"text-align: right;\">\n",
              "      <th></th>\n",
              "      <th>article_id</th>\n",
              "      <th>target</th>\n",
              "      <th>target_id</th>\n",
              "      <th>class</th>\n",
              "      <th>word_with_weight</th>\n",
              "      <th>n_word</th>\n",
              "      <th>sparse_features</th>\n",
              "      <th>dense_features</th>\n",
              "    </tr>\n",
              "  </thead>\n",
              "  <tbody>\n",
              "  </tbody>\n",
              "</table>\n",
              "</div>"
            ],
            "text/plain": [
              "Empty DataFrame\n",
              "Columns: [article_id, target, target_id, class, word_with_weight, n_word, sparse_features, dense_features]\n",
              "Index: []"
            ]
          },
          "metadata": {
            "tags": []
          },
          "execution_count": 42
        }
      ]
    },
    {
      "metadata": {
        "id": "cub4QVV-LnFv",
        "colab_type": "text"
      },
      "cell_type": "markdown",
      "source": [
        "Check the created table."
      ]
    },
    {
      "metadata": {
        "id": "WxMWDwxE38C9",
        "colab_type": "code",
        "colab": {
          "base_uri": "https://localhost:8080/",
          "height": 289
        },
        "outputId": "c67df054-0f27-4365-ca5a-9afe459f6276"
      },
      "cell_type": "code",
      "source": [
        "td.read_td_query('''\n",
        "select\n",
        "  *\n",
        "from\n",
        "  news20_train_data\n",
        "limit 5\n",
        "''', engine=presto)"
      ],
      "execution_count": 43,
      "outputs": [
        {
          "output_type": "execute_result",
          "data": {
            "text/html": [
              "<div>\n",
              "<style scoped>\n",
              "    .dataframe tbody tr th:only-of-type {\n",
              "        vertical-align: middle;\n",
              "    }\n",
              "\n",
              "    .dataframe tbody tr th {\n",
              "        vertical-align: top;\n",
              "    }\n",
              "\n",
              "    .dataframe thead th {\n",
              "        text-align: right;\n",
              "    }\n",
              "</style>\n",
              "<table border=\"1\" class=\"dataframe\">\n",
              "  <thead>\n",
              "    <tr style=\"text-align: right;\">\n",
              "      <th></th>\n",
              "      <th>article_id</th>\n",
              "      <th>target</th>\n",
              "      <th>target_id</th>\n",
              "      <th>class</th>\n",
              "      <th>word_with_weight</th>\n",
              "      <th>n_word</th>\n",
              "      <th>sparse_features</th>\n",
              "      <th>dense_features</th>\n",
              "      <th>time</th>\n",
              "    </tr>\n",
              "  </thead>\n",
              "  <tbody>\n",
              "    <tr>\n",
              "      <th>0</th>\n",
              "      <td>7172</td>\n",
              "      <td>alt.atheism</td>\n",
              "      <td>0</td>\n",
              "      <td>train</td>\n",
              "      <td>[belong:0.0964078879139117, technology:0.05396...</td>\n",
              "      <td>62</td>\n",
              "      <td>[489:0.0964078879139117, 577:0.053966938307285...</td>\n",
              "      <td>[None, None, None, 0.03259481489658356, None, ...</td>\n",
              "      <td>1550830489</td>\n",
              "    </tr>\n",
              "    <tr>\n",
              "      <th>1</th>\n",
              "      <td>6358</td>\n",
              "      <td>alt.atheism</td>\n",
              "      <td>0</td>\n",
              "      <td>test</td>\n",
              "      <td>[53:0.010039001717028867, same:0.0044857008088...</td>\n",
              "      <td>898</td>\n",
              "      <td>[199:0.010039001717028867, 912:0.0044857008088...</td>\n",
              "      <td>[None, 0.010309834964573383, None, 0.004955134...</td>\n",
              "      <td>1550830489</td>\n",
              "    </tr>\n",
              "    <tr>\n",
              "      <th>2</th>\n",
              "      <td>17245</td>\n",
              "      <td>alt.atheism</td>\n",
              "      <td>0</td>\n",
              "      <td>train</td>\n",
              "      <td>[old:0.011693441373030368, t:0.002852660355647...</td>\n",
              "      <td>438</td>\n",
              "      <td>[966:0.011693441373030368, 393:0.0028526603556...</td>\n",
              "      <td>[None, None, None, 0.02151159942150116, 0.0118...</td>\n",
              "      <td>1550830489</td>\n",
              "    </tr>\n",
              "    <tr>\n",
              "      <th>3</th>\n",
              "      <td>5704</td>\n",
              "      <td>alt.atheism</td>\n",
              "      <td>0</td>\n",
              "      <td>train</td>\n",
              "      <td>[at:0.005459553569856588, more:0.0083509794154...</td>\n",
              "      <td>244</td>\n",
              "      <td>[431:0.005459553569856588, 976:0.0083509794154...</td>\n",
              "      <td>[None, 0.04473377391695976, None, 0.0141156129...</td>\n",
              "      <td>1550830489</td>\n",
              "    </tr>\n",
              "    <tr>\n",
              "      <th>4</th>\n",
              "      <td>10559</td>\n",
              "      <td>alt.atheism</td>\n",
              "      <td>0</td>\n",
              "      <td>test</td>\n",
              "      <td>[livesey:0.04592478216941326, against:0.023111...</td>\n",
              "      <td>177</td>\n",
              "      <td>[866:0.04592478216941326, 645:0.02311129191529...</td>\n",
              "      <td>[None, None, None, 0.014842281118035316, None,...</td>\n",
              "      <td>1550830489</td>\n",
              "    </tr>\n",
              "  </tbody>\n",
              "</table>\n",
              "</div>"
            ],
            "text/plain": [
              "   article_id       target  target_id  class  \\\n",
              "0        7172  alt.atheism          0  train   \n",
              "1        6358  alt.atheism          0   test   \n",
              "2       17245  alt.atheism          0  train   \n",
              "3        5704  alt.atheism          0  train   \n",
              "4       10559  alt.atheism          0   test   \n",
              "\n",
              "                                    word_with_weight  n_word  \\\n",
              "0  [belong:0.0964078879139117, technology:0.05396...      62   \n",
              "1  [53:0.010039001717028867, same:0.0044857008088...     898   \n",
              "2  [old:0.011693441373030368, t:0.002852660355647...     438   \n",
              "3  [at:0.005459553569856588, more:0.0083509794154...     244   \n",
              "4  [livesey:0.04592478216941326, against:0.023111...     177   \n",
              "\n",
              "                                     sparse_features  \\\n",
              "0  [489:0.0964078879139117, 577:0.053966938307285...   \n",
              "1  [199:0.010039001717028867, 912:0.0044857008088...   \n",
              "2  [966:0.011693441373030368, 393:0.0028526603556...   \n",
              "3  [431:0.005459553569856588, 976:0.0083509794154...   \n",
              "4  [866:0.04592478216941326, 645:0.02311129191529...   \n",
              "\n",
              "                                      dense_features        time  \n",
              "0  [None, None, None, 0.03259481489658356, None, ...  1550830489  \n",
              "1  [None, 0.010309834964573383, None, 0.004955134...  1550830489  \n",
              "2  [None, None, None, 0.02151159942150116, 0.0118...  1550830489  \n",
              "3  [None, 0.04473377391695976, None, 0.0141156129...  1550830489  \n",
              "4  [None, None, None, 0.014842281118035316, None,...  1550830489  "
            ]
          },
          "metadata": {
            "tags": []
          },
          "execution_count": 43
        }
      ]
    },
    {
      "metadata": {
        "id": "SA_WxCAL5Cv6",
        "colab_type": "text"
      },
      "cell_type": "markdown",
      "source": [
        "## Build a model with Random Forest Classifier\n",
        "[wikipdia of RandomForest in English](https://en.wikipedia.org/wiki/Random_forest)  \n",
        "[wikipdia of RandomForest in Japanese](https://ja.wikipedia.org/wiki/%E3%83%A9%E3%83%B3%E3%83%80%E3%83%A0%E3%83%95%E3%82%A9%E3%83%AC%E3%82%B9%E3%83%88)"
      ]
    },
    {
      "metadata": {
        "id": "419DOVgY6QwE",
        "colab_type": "code",
        "colab": {
          "base_uri": "https://localhost:8080/",
          "height": 34
        },
        "outputId": "c7c531b3-7940-483c-d657-f08010cac2c9"
      },
      "cell_type": "code",
      "source": [
        "if 'news20_randomforest_model' in [table.name for table in c.tables(database)]:\n",
        "  c.delete_table(database, 'news20_randomforest_model')\n",
        "c.create_log_table(database, 'news20_randomforest_model')"
      ],
      "execution_count": 44,
      "outputs": [
        {
          "output_type": "execute_result",
          "data": {
            "text/plain": [
              "True"
            ]
          },
          "metadata": {
            "tags": []
          },
          "execution_count": 44
        }
      ]
    },
    {
      "metadata": {
        "id": "oJCqzEpJ41k8",
        "colab_type": "code",
        "colab": {
          "base_uri": "https://localhost:8080/",
          "height": 136
        },
        "outputId": "455ba5e6-b200-40c7-e278-0eba2ae237f2"
      },
      "cell_type": "code",
      "source": [
        "td.read_td_query('''\n",
        "insert overwrite table news20_randomforest_model\n",
        "select\n",
        "  train_randomforest_classifier(dense_features, target_id, '-trees 50')\n",
        "  -- train_randomforest_classifier(dense_features, target_id, '-trees 50 -splits 10 -leafs 1 -depth 1000')\n",
        "from\n",
        "  news20_train_data\n",
        "where\n",
        "  class = 'train'\n",
        "''', engine=hive)"
      ],
      "execution_count": 45,
      "outputs": [
        {
          "output_type": "display_data",
          "data": {
            "text/html": [
              "<div style=\"border-style: dashed; border-width: 1px;\">\n",
              "<div style=\"color: #888;\"># issued at 2019-02-22T10:15:55Z</div>URL: <a href=\"https://console.treasuredata.com/jobs/418123606\" target=\"_blank\">https://console.treasuredata.com/jobs/418123606</a><br>\n",
              "Result size: 20 bytes<br>\n",
              "Download: 20 / 20 bytes (100.00%)<br>\n",
              "<div style=\"color: #888;\"># downloaded at 2019-02-22T10:22:06Z</div></div>\n"
            ],
            "text/plain": [
              "<IPython.core.display.HTML object>"
            ]
          },
          "metadata": {
            "tags": []
          }
        },
        {
          "output_type": "execute_result",
          "data": {
            "text/html": [
              "<div>\n",
              "<style scoped>\n",
              "    .dataframe tbody tr th:only-of-type {\n",
              "        vertical-align: middle;\n",
              "    }\n",
              "\n",
              "    .dataframe tbody tr th {\n",
              "        vertical-align: top;\n",
              "    }\n",
              "\n",
              "    .dataframe thead th {\n",
              "        text-align: right;\n",
              "    }\n",
              "</style>\n",
              "<table border=\"1\" class=\"dataframe\">\n",
              "  <thead>\n",
              "    <tr style=\"text-align: right;\">\n",
              "      <th></th>\n",
              "      <th>model_id</th>\n",
              "      <th>model_weight</th>\n",
              "      <th>model</th>\n",
              "      <th>var_importance</th>\n",
              "      <th>oob_errors</th>\n",
              "      <th>oob_tests</th>\n",
              "    </tr>\n",
              "  </thead>\n",
              "  <tbody>\n",
              "  </tbody>\n",
              "</table>\n",
              "</div>"
            ],
            "text/plain": [
              "Empty DataFrame\n",
              "Columns: [model_id, model_weight, model, var_importance, oob_errors, oob_tests]\n",
              "Index: []"
            ]
          },
          "metadata": {
            "tags": []
          },
          "execution_count": 45
        }
      ]
    },
    {
      "metadata": {
        "id": "swPG69eqLqra",
        "colab_type": "text"
      },
      "cell_type": "markdown",
      "source": [
        "Check the created table."
      ]
    },
    {
      "metadata": {
        "id": "IL7m5nD65wfN",
        "colab_type": "code",
        "colab": {
          "base_uri": "https://localhost:8080/",
          "height": 289
        },
        "outputId": "422d6f49-583c-4408-d547-b57d07b63883"
      },
      "cell_type": "code",
      "source": [
        "td.read_td_query('''\n",
        "select\n",
        "  *\n",
        "from\n",
        "  news20_randomforest_model\n",
        "limit 5\n",
        "''', engine=presto)"
      ],
      "execution_count": 46,
      "outputs": [
        {
          "output_type": "execute_result",
          "data": {
            "text/html": [
              "<div>\n",
              "<style scoped>\n",
              "    .dataframe tbody tr th:only-of-type {\n",
              "        vertical-align: middle;\n",
              "    }\n",
              "\n",
              "    .dataframe tbody tr th {\n",
              "        vertical-align: top;\n",
              "    }\n",
              "\n",
              "    .dataframe thead th {\n",
              "        text-align: right;\n",
              "    }\n",
              "</style>\n",
              "<table border=\"1\" class=\"dataframe\">\n",
              "  <thead>\n",
              "    <tr style=\"text-align: right;\">\n",
              "      <th></th>\n",
              "      <th>model_id</th>\n",
              "      <th>model_weight</th>\n",
              "      <th>model</th>\n",
              "      <th>var_importance</th>\n",
              "      <th>oob_errors</th>\n",
              "      <th>oob_tests</th>\n",
              "      <th>time</th>\n",
              "    </tr>\n",
              "  </thead>\n",
              "  <tbody>\n",
              "    <tr>\n",
              "      <th>0</th>\n",
              "      <td>b0aeed97-8200-4c10-af8b-07107f8631f6</td>\n",
              "      <td>0.159585</td>\n",
              "      <td>I?brQF&lt;ZO5gr&gt;%e4,B&amp;F&amp;(3~dRVRuc{P0cO5TDCYiahjx-...</td>\n",
              "      <td>[0.0, 0.9679546328335256, 2.2039429168316436, ...</td>\n",
              "      <td>0</td>\n",
              "      <td>0</td>\n",
              "      <td>1550830555</td>\n",
              "    </tr>\n",
              "    <tr>\n",
              "      <th>1</th>\n",
              "      <td>1cbf4a2f-65a9-4a6d-b8b3-19a2cd8db019</td>\n",
              "      <td>0.175987</td>\n",
              "      <td>I?brQF_Z7i*s&gt;%sE4Ws4av1wmLNZy~9kB)QcN0[WFxlB;X...</td>\n",
              "      <td>[0.0, 1.051716531487942, 1.0344598653521917, 4...</td>\n",
              "      <td>0</td>\n",
              "      <td>0</td>\n",
              "      <td>1550830555</td>\n",
              "    </tr>\n",
              "    <tr>\n",
              "      <th>2</th>\n",
              "      <td>c5458fb8-69d3-4cb9-9118-0afb2d074e67</td>\n",
              "      <td>0.169745</td>\n",
              "      <td>I?brQFBV8&gt;`}VD-HMMuc$ElH)H%ttB]G_h*gSt%cxrXIP7...</td>\n",
              "      <td>[0.0, 0.6291322314049588, 2.4426001449540626, ...</td>\n",
              "      <td>0</td>\n",
              "      <td>0</td>\n",
              "      <td>1550830555</td>\n",
              "    </tr>\n",
              "    <tr>\n",
              "      <th>3</th>\n",
              "      <td>a5d5ae50-c941-42a4-9f2e-fd13a6f75b38</td>\n",
              "      <td>0.171901</td>\n",
              "      <td>I?brQFcU|7$rWDd{b7B*$/q~}95Ft4V3}tB;@te!{LC6~q...</td>\n",
              "      <td>[0.0, 1.0991076334379908, 2.784869434901934, 2...</td>\n",
              "      <td>0</td>\n",
              "      <td>0</td>\n",
              "      <td>1550830555</td>\n",
              "    </tr>\n",
              "    <tr>\n",
              "      <th>4</th>\n",
              "      <td>4bcf9c64-29fb-4447-bbdc-1ddbae260025</td>\n",
              "      <td>0.170783</td>\n",
              "      <td>I?brQFBV7i,stG&amp;tFw}96S@D-w/h^{{G)H_txds4WE~.c&lt;...</td>\n",
              "      <td>[0.0, 0.9351118901556178, 1.3856907086589905, ...</td>\n",
              "      <td>0</td>\n",
              "      <td>0</td>\n",
              "      <td>1550830555</td>\n",
              "    </tr>\n",
              "  </tbody>\n",
              "</table>\n",
              "</div>"
            ],
            "text/plain": [
              "                               model_id  model_weight  \\\n",
              "0  b0aeed97-8200-4c10-af8b-07107f8631f6      0.159585   \n",
              "1  1cbf4a2f-65a9-4a6d-b8b3-19a2cd8db019      0.175987   \n",
              "2  c5458fb8-69d3-4cb9-9118-0afb2d074e67      0.169745   \n",
              "3  a5d5ae50-c941-42a4-9f2e-fd13a6f75b38      0.171901   \n",
              "4  4bcf9c64-29fb-4447-bbdc-1ddbae260025      0.170783   \n",
              "\n",
              "                                               model  \\\n",
              "0  I?brQF<ZO5gr>%e4,B&F&(3~dRVRuc{P0cO5TDCYiahjx-...   \n",
              "1  I?brQF_Z7i*s>%sE4Ws4av1wmLNZy~9kB)QcN0[WFxlB;X...   \n",
              "2  I?brQFBV8>`}VD-HMMuc$ElH)H%ttB]G_h*gSt%cxrXIP7...   \n",
              "3  I?brQFcU|7$rWDd{b7B*$/q~}95Ft4V3}tB;@te!{LC6~q...   \n",
              "4  I?brQFBV7i,stG&tFw}96S@D-w/h^{{G)H_txds4WE~.c<...   \n",
              "\n",
              "                                      var_importance  oob_errors  oob_tests  \\\n",
              "0  [0.0, 0.9679546328335256, 2.2039429168316436, ...           0          0   \n",
              "1  [0.0, 1.051716531487942, 1.0344598653521917, 4...           0          0   \n",
              "2  [0.0, 0.6291322314049588, 2.4426001449540626, ...           0          0   \n",
              "3  [0.0, 1.0991076334379908, 2.784869434901934, 2...           0          0   \n",
              "4  [0.0, 0.9351118901556178, 1.3856907086589905, ...           0          0   \n",
              "\n",
              "         time  \n",
              "0  1550830555  \n",
              "1  1550830555  \n",
              "2  1550830555  \n",
              "3  1550830555  \n",
              "4  1550830555  "
            ]
          },
          "metadata": {
            "tags": []
          },
          "execution_count": 46
        }
      ]
    },
    {
      "metadata": {
        "id": "fvX-NcZd6-6u",
        "colab_type": "text"
      },
      "cell_type": "markdown",
      "source": [
        "## Predict"
      ]
    },
    {
      "metadata": {
        "id": "6WtqbZRrFIDA",
        "colab_type": "code",
        "colab": {
          "base_uri": "https://localhost:8080/",
          "height": 34
        },
        "outputId": "a49dea58-ff53-4322-9a15-7d4db0c82972"
      },
      "cell_type": "code",
      "source": [
        "if 'news20_randomforest_predicted' in [table.name for table in c.tables(database)]:\n",
        "  c.delete_table(database, 'news20_randomforest_predicted')\n",
        "c.create_log_table(database, 'news20_randomforest_predicted')"
      ],
      "execution_count": 47,
      "outputs": [
        {
          "output_type": "execute_result",
          "data": {
            "text/plain": [
              "True"
            ]
          },
          "metadata": {
            "tags": []
          },
          "execution_count": 47
        }
      ]
    },
    {
      "metadata": {
        "id": "VlvTXzK-Dusr",
        "colab_type": "code",
        "colab": {
          "base_uri": "https://localhost:8080/",
          "height": 136
        },
        "outputId": "a5deaeb2-3383-47ad-8464-d72d306019ac"
      },
      "cell_type": "code",
      "source": [
        "td.read_td_query('''\n",
        "insert overwrite table news20_randomforest_predicted\n",
        "SELECT\n",
        "  article_id,\n",
        "  class,\n",
        "  target_id,\n",
        "  rf_ensemble(predicted.value, predicted.posteriori, model_weight).label as predicted\n",
        "FROM (\n",
        "  SELECT\n",
        "    t.article_id,\n",
        "    class,\n",
        "    target_id,\n",
        "    p.model_weight,\n",
        "    tree_predict(p.model_id, p.model, t.dense_features, \"-classification\") as predicted\n",
        "  FROM (\n",
        "    SELECT \n",
        "      model_id, model_weight, model\n",
        "    FROM news20_randomforest_model\n",
        "    DISTRIBUTE BY rand(1)\n",
        "  ) p\n",
        "  LEFT OUTER JOIN news20_train_data t\n",
        ") t1\n",
        "group by\n",
        "  1,2,3\n",
        "''', engine=hive)"
      ],
      "execution_count": 48,
      "outputs": [
        {
          "output_type": "display_data",
          "data": {
            "text/html": [
              "<div style=\"border-style: dashed; border-width: 1px;\">\n",
              "<div style=\"color: #888;\"># issued at 2019-02-22T10:22:09Z</div>URL: <a href=\"https://console.treasuredata.com/jobs/418126024\" target=\"_blank\">https://console.treasuredata.com/jobs/418126024</a><br>\n",
              "Result size: 20 bytes<br>\n",
              "Download: 20 / 20 bytes (100.00%)<br>\n",
              "<div style=\"color: #888;\"># downloaded at 2019-02-22T10:24:08Z</div></div>\n"
            ],
            "text/plain": [
              "<IPython.core.display.HTML object>"
            ]
          },
          "metadata": {
            "tags": []
          }
        },
        {
          "output_type": "execute_result",
          "data": {
            "text/html": [
              "<div>\n",
              "<style scoped>\n",
              "    .dataframe tbody tr th:only-of-type {\n",
              "        vertical-align: middle;\n",
              "    }\n",
              "\n",
              "    .dataframe tbody tr th {\n",
              "        vertical-align: top;\n",
              "    }\n",
              "\n",
              "    .dataframe thead th {\n",
              "        text-align: right;\n",
              "    }\n",
              "</style>\n",
              "<table border=\"1\" class=\"dataframe\">\n",
              "  <thead>\n",
              "    <tr style=\"text-align: right;\">\n",
              "      <th></th>\n",
              "      <th>article_id</th>\n",
              "      <th>class</th>\n",
              "      <th>target_id</th>\n",
              "      <th>predicted</th>\n",
              "    </tr>\n",
              "  </thead>\n",
              "  <tbody>\n",
              "  </tbody>\n",
              "</table>\n",
              "</div>"
            ],
            "text/plain": [
              "Empty DataFrame\n",
              "Columns: [article_id, class, target_id, predicted]\n",
              "Index: []"
            ]
          },
          "metadata": {
            "tags": []
          },
          "execution_count": 48
        }
      ]
    },
    {
      "metadata": {
        "id": "PiFhxffpta0O",
        "colab_type": "text"
      },
      "cell_type": "markdown",
      "source": [
        "Check the created table."
      ]
    },
    {
      "metadata": {
        "id": "BIw0n5uyF88U",
        "colab_type": "code",
        "colab": {
          "base_uri": "https://localhost:8080/",
          "height": 204
        },
        "outputId": "7128a4d9-8346-409b-ce9a-a7e1d3ac0e28"
      },
      "cell_type": "code",
      "source": [
        "td.read_td_query('''\n",
        "select\n",
        "  *\n",
        "from\n",
        "  news20_randomforest_predicted\n",
        "limit 5\n",
        "''', engine=presto)"
      ],
      "execution_count": 49,
      "outputs": [
        {
          "output_type": "execute_result",
          "data": {
            "text/html": [
              "<div>\n",
              "<style scoped>\n",
              "    .dataframe tbody tr th:only-of-type {\n",
              "        vertical-align: middle;\n",
              "    }\n",
              "\n",
              "    .dataframe tbody tr th {\n",
              "        vertical-align: top;\n",
              "    }\n",
              "\n",
              "    .dataframe thead th {\n",
              "        text-align: right;\n",
              "    }\n",
              "</style>\n",
              "<table border=\"1\" class=\"dataframe\">\n",
              "  <thead>\n",
              "    <tr style=\"text-align: right;\">\n",
              "      <th></th>\n",
              "      <th>article_id</th>\n",
              "      <th>class</th>\n",
              "      <th>target_id</th>\n",
              "      <th>predicted</th>\n",
              "      <th>time</th>\n",
              "    </tr>\n",
              "  </thead>\n",
              "  <tbody>\n",
              "    <tr>\n",
              "      <th>0</th>\n",
              "      <td>0</td>\n",
              "      <td>train</td>\n",
              "      <td>10</td>\n",
              "      <td>10</td>\n",
              "      <td>1550830929</td>\n",
              "    </tr>\n",
              "    <tr>\n",
              "      <th>1</th>\n",
              "      <td>1</td>\n",
              "      <td>train</td>\n",
              "      <td>3</td>\n",
              "      <td>3</td>\n",
              "      <td>1550830929</td>\n",
              "    </tr>\n",
              "    <tr>\n",
              "      <th>2</th>\n",
              "      <td>2</td>\n",
              "      <td>train</td>\n",
              "      <td>17</td>\n",
              "      <td>17</td>\n",
              "      <td>1550830929</td>\n",
              "    </tr>\n",
              "    <tr>\n",
              "      <th>3</th>\n",
              "      <td>3</td>\n",
              "      <td>train</td>\n",
              "      <td>3</td>\n",
              "      <td>3</td>\n",
              "      <td>1550830929</td>\n",
              "    </tr>\n",
              "    <tr>\n",
              "      <th>4</th>\n",
              "      <td>4</td>\n",
              "      <td>train</td>\n",
              "      <td>4</td>\n",
              "      <td>4</td>\n",
              "      <td>1550830929</td>\n",
              "    </tr>\n",
              "  </tbody>\n",
              "</table>\n",
              "</div>"
            ],
            "text/plain": [
              "   article_id  class  target_id  predicted        time\n",
              "0           0  train         10         10  1550830929\n",
              "1           1  train          3          3  1550830929\n",
              "2           2  train         17         17  1550830929\n",
              "3           3  train          3          3  1550830929\n",
              "4           4  train          4          4  1550830929"
            ]
          },
          "metadata": {
            "tags": []
          },
          "execution_count": 49
        }
      ]
    },
    {
      "metadata": {
        "id": "TiIZuLfkEc1w",
        "colab_type": "text"
      },
      "cell_type": "markdown",
      "source": [
        "## Evaluate"
      ]
    },
    {
      "metadata": {
        "id": "z4mkh0DDIzd3",
        "colab_type": "text"
      },
      "cell_type": "markdown",
      "source": [
        "### Train"
      ]
    },
    {
      "metadata": {
        "id": "vm9JrL7oGFAf",
        "colab_type": "code",
        "colab": {
          "base_uri": "https://localhost:8080/",
          "height": 405
        },
        "outputId": "53ce5b77-7c96-4c42-9c99-f5471a779ea8"
      },
      "cell_type": "code",
      "source": [
        "result = td.read_td_query('''\n",
        "  select\n",
        "    class\n",
        "    ,target_id\n",
        "    ,predicted\n",
        "    ,count(*) as n\n",
        "  from\n",
        "    news20_randomforest_predicted\n",
        "  where\n",
        "    class = 'train'\n",
        "  group by\n",
        "    1,2,3\n",
        "''', engine=presto).pivot(index='target_id', columns='predicted', values='n').fillna(0)\n",
        "\n",
        "# Calculate the accuracy\n",
        "n_correct = np.trace(result)\n",
        "n_total = result.sum().sum()\n",
        "print('Accuracy : {:.2%} (= {:,} / {:,})'.format(n_correct / n_total, n_correct, n_total))\n",
        "\n",
        "# Picture\n",
        "fig, ax = plt.subplots(figsize=(15,6))\n",
        "sns.heatmap(result, annot=True, ax=ax)\n",
        "plt.show()"
      ],
      "execution_count": 50,
      "outputs": [
        {
          "output_type": "stream",
          "text": [
            "Accuracy : 99.94% (= 13,186.0 / 13,194.0)\n"
          ],
          "name": "stdout"
        },
        {
          "output_type": "display_data",
          "data": {
            "image/png": "[encoded data removed]",
            "text/plain": [
              "<Figure size 1080x432 with 2 Axes>"
            ]
          },
          "metadata": {
            "tags": []
          }
        }
      ]
    },
    {
      "metadata": {
        "id": "pNy4P7MrI1c3",
        "colab_type": "text"
      },
      "cell_type": "markdown",
      "source": [
        "### Test"
      ]
    },
    {
      "metadata": {
        "id": "LlXGmL2QGazI",
        "colab_type": "code",
        "colab": {
          "base_uri": "https://localhost:8080/",
          "height": 405
        },
        "outputId": "1b350be5-b6af-4fd4-d6b7-e8040afc26d4"
      },
      "cell_type": "code",
      "source": [
        "result = td.read_td_query('''\n",
        "  select\n",
        "    class\n",
        "    ,target_id\n",
        "    ,predicted\n",
        "    ,count(*) as n\n",
        "  from\n",
        "    news20_randomforest_predicted\n",
        "  where\n",
        "    class = 'test'\n",
        "  group by\n",
        "    1,2,3\n",
        "''', engine=presto).pivot(index='target_id', columns='predicted', values='n').fillna(0)\n",
        "\n",
        "# Calculate the accuracy\n",
        "n_correct = np.trace(result)\n",
        "n_total = result.sum().sum()\n",
        "print('Accuracy : {:.2%} (= {:,} / {:,})'.format(n_correct / n_total, n_correct, n_total))\n",
        "\n",
        "# Picture\n",
        "fig, ax = plt.subplots(figsize=(15,6))\n",
        "sns.heatmap(result, annot=True, ax=ax)\n",
        "plt.show()"
      ],
      "execution_count": 51,
      "outputs": [
        {
          "output_type": "stream",
          "text": [
            "Accuracy : 51.26% (= 2,897.0 / 5,652.0)\n"
          ],
          "name": "stdout"
        },
        {
          "output_type": "display_data",
          "data": {
            "image/png": "[encoded data removed]",
            "text/plain": [
              "<Figure size 1080x432 with 2 Axes>"
            ]
          },
          "metadata": {
            "tags": []
          }
        }
      ]
    },
    {
      "metadata": {
        "id": "NdPCGlbZY6tS",
        "colab_type": "text"
      },
      "cell_type": "markdown",
      "source": [
        "## Check the variable importance\n",
        "The bigger the value is, the better it is."
      ]
    },
    {
      "metadata": {
        "id": "vOibSBJoM4wr",
        "colab_type": "code",
        "colab": {
          "base_uri": "https://localhost:8080/",
          "height": 204
        },
        "outputId": "0b68cce8-45e0-4c30-97ac-39613e971786"
      },
      "cell_type": "code",
      "source": [
        "td.read_td_query('''\n",
        "select\n",
        "  n as index\n",
        "  ,subarray(importances, n-1, n)[0] as importance\n",
        "from (\n",
        "  select\n",
        "    array_sum(var_importance) as importances\n",
        "  from \n",
        "    news20_randomforest_model\n",
        "  ) t\n",
        "lateral view\n",
        "  generate_series(1,1001) t as n\n",
        "limit 5\n",
        "''', engine=hive)"
      ],
      "execution_count": 52,
      "outputs": [
        {
          "output_type": "execute_result",
          "data": {
            "text/html": [
              "<div>\n",
              "<style scoped>\n",
              "    .dataframe tbody tr th:only-of-type {\n",
              "        vertical-align: middle;\n",
              "    }\n",
              "\n",
              "    .dataframe tbody tr th {\n",
              "        vertical-align: top;\n",
              "    }\n",
              "\n",
              "    .dataframe thead th {\n",
              "        text-align: right;\n",
              "    }\n",
              "</style>\n",
              "<table border=\"1\" class=\"dataframe\">\n",
              "  <thead>\n",
              "    <tr style=\"text-align: right;\">\n",
              "      <th></th>\n",
              "      <th>index</th>\n",
              "      <th>importance</th>\n",
              "    </tr>\n",
              "  </thead>\n",
              "  <tbody>\n",
              "    <tr>\n",
              "      <th>0</th>\n",
              "      <td>1</td>\n",
              "      <td>0.000000</td>\n",
              "    </tr>\n",
              "    <tr>\n",
              "      <th>1</th>\n",
              "      <td>2</td>\n",
              "      <td>42.339769</td>\n",
              "    </tr>\n",
              "    <tr>\n",
              "      <th>2</th>\n",
              "      <td>3</td>\n",
              "      <td>75.248267</td>\n",
              "    </tr>\n",
              "    <tr>\n",
              "      <th>3</th>\n",
              "      <td>4</td>\n",
              "      <td>189.267560</td>\n",
              "    </tr>\n",
              "    <tr>\n",
              "      <th>4</th>\n",
              "      <td>5</td>\n",
              "      <td>33.590422</td>\n",
              "    </tr>\n",
              "  </tbody>\n",
              "</table>\n",
              "</div>"
            ],
            "text/plain": [
              "   index  importance\n",
              "0      1    0.000000\n",
              "1      2   42.339769\n",
              "2      3   75.248267\n",
              "3      4  189.267560\n",
              "4      5   33.590422"
            ]
          },
          "metadata": {
            "tags": []
          },
          "execution_count": 52
        }
      ]
    }
  ]
}