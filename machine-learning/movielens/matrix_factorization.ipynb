{
  "nbformat": 4,
  "nbformat_minor": 0,
  "metadata": {
    "colab": {
      "name": "matrix_factorization",
      "version": "0.3.2",
      "provenance": [],
      "collapsed_sections": [],
      "toc_visible": true,
      "include_colab_link": true
    },
    "kernelspec": {
      "name": "python3",
      "display_name": "Python 3"
    }
  },
  "cells": [
    {
      "cell_type": "markdown",
      "metadata": {
        "id": "view-in-github",
        "colab_type": "text"
      },
      "source": [
        "<a href=\"https://colab.research.google.com/github/td-yoshimura/hivemall-example/blob/master/machine-learning/movielens/matrix_factorization.ipynb\" target=\"_parent\"><img src=\"https://colab.research.google.com/assets/colab-badge.svg\" alt=\"Open In Colab\"/></a>"
      ]
    },
    {
      "metadata": {
        "id": "hUOQ2cM7XDrP",
        "colab_type": "text"
      },
      "cell_type": "markdown",
      "source": [
        "# Summary\n",
        "This notebook shows how to use Matrix Factorization of Hivemall with [movielens dataset](https://grouplens.org/datasets/movielens/).  \n",
        "Matrix Factorization can be used for\n",
        "1. Recommendation model.\n",
        "2. a way of dimension reduction.  \n",
        "\n",
        "As for the algorithm, please refer to [wikipedia](https://en.wikipedia.org/wiki/Matrix_factorization_(recommender_systems)  \n",
        "\n",
        "This notebook focuses on Recommandation."
      ]
    },
    {
      "metadata": {
        "id": "isz2FszTmXia",
        "colab_type": "text"
      },
      "cell_type": "markdown",
      "source": [
        "# SetUp"
      ]
    },
    {
      "metadata": {
        "id": "NJFM5eEF24gs",
        "colab_type": "code",
        "colab": {
          "base_uri": "https://localhost:8080/",
          "height": 102
        },
        "outputId": "17c32f80-5b5b-474c-ee7f-175de2e02fcd"
      },
      "cell_type": "code",
      "source": [
        "from getpass import getpass\n",
        "td_api_key = getpass('Enter TD API KEY here ')\n",
        "database   = input('Enter YOUR DATABASE to create tables here ')\n",
        "assert database, \"Error: Input YOUR DATABASE\"\n",
        "endpoint   = input('Enter YOUR ENDPOINT to create tables here (default: \"api.treasuredata.com\") \\nref : https://support.treasuredata.com/hc/en-us/articles/360001474288-Sites-and-Endpoints ')\n",
        "endpoint = endpoint if endpoint else 'https://api.treasuredata.com/'\n",
        "endpoint = 'https://' + endpoint if not endpoint.startswith('https://') else endpoint\n",
        "use_spark  = input('If enable to use spark, enter \"true\" (default: false) ').lower()\n",
        "use_spark  = use_spark == 'true'\n",
        "table = 'livedoor_news'"
      ],
      "execution_count": 1,
      "outputs": [
        {
          "output_type": "stream",
          "text": [
            "Enter TD API KEY here ··········\n",
            "Enter YOUR DATABASE to create tables here hivemall\n",
            "Enter YOUR ENDPOINT to create tables here (default: \"api.treasuredata.com\") \n",
            "ref : https://support.treasuredata.com/hc/en-us/articles/360001474288-Sites-and-Endpoints \n",
            "If enable to use spark, enter \"true\" (default: false) true\n"
          ],
          "name": "stdout"
        }
      ]
    },
    {
      "metadata": {
        "id": "W370GQah1fgJ",
        "colab_type": "code",
        "colab": {}
      },
      "cell_type": "code",
      "source": [
        "%%capture\n",
        "!pip install td-client\n",
        "!pip install pandas-td\n",
        "!pip install -q git+https://github.com/takuti/pytd@master#egg=treasure-data[spark]\n",
        "\n",
        "import numpy as np\n",
        "import pandas as pd\n",
        "import pandas_td as td\n",
        "import matplotlib.pyplot as plt\n",
        "import seaborn as sns\n",
        "import pytd\n",
        "import tdclient\n",
        "pd.options.display.max_columns = 30\n",
        "\n",
        "%matplotlib inline\n",
        "con = td.connect(apikey=td_api_key, endpoint=endpoint)\n",
        "c = tdclient.Client(apikey=td_api_key, endpoint=endpoint)\n",
        "presto = td.create_engine('presto:{}'.format(database), con=con)\n",
        "hive = td.create_engine('hive:{}'.format(database), con=con)\n",
        "\n",
        "def recreate_table(client, table, database=database):\n",
        "  if table in [table.name for table in client.tables(database)]:\n",
        "    client.delete_table(database, table)\n",
        "  client.create_log_table(database, table)\n",
        "  return None"
      ],
      "execution_count": 0,
      "outputs": []
    },
    {
      "metadata": {
        "id": "XGojUcTDhDSb",
        "colab_type": "text"
      },
      "cell_type": "markdown",
      "source": [
        "# Data Prepareation\n"
      ]
    },
    {
      "metadata": {
        "id": "3J7HsyWIhIUW",
        "colab_type": "code",
        "colab": {}
      },
      "cell_type": "code",
      "source": [
        "%%capture\n",
        "!wget -o ml-lm.zip http://files.grouplens.org/datasets/movielens/ml-1m.zip\n",
        "!unzip -o ml-1m.zip"
      ],
      "execution_count": 0,
      "outputs": []
    },
    {
      "metadata": {
        "id": "q9N9k6XZjyzj",
        "colab_type": "code",
        "colab": {}
      },
      "cell_type": "code",
      "source": [
        "import time\n",
        "import pandas as pd\n",
        "movies = pd.read_csv('./ml-1m/movies.dat', sep='\\:\\:', names=['movie_id', 'title', 'genres'], engine='python')\n",
        "ratings  = pd.read_csv('./ml-1m/ratings.dat',  sep='\\:\\:', names=['user_id', 'movie_id', 'rating', 'time'], engine='python')\n",
        "ratings['rowid'] = list(range(ratings.shape[0]))"
      ],
      "execution_count": 0,
      "outputs": []
    },
    {
      "metadata": {
        "id": "bJR3g6HGqRS5",
        "colab_type": "code",
        "colab": {}
      },
      "cell_type": "code",
      "source": [
        "# Upload\n",
        "import time\n",
        "if use_spark:\n",
        "  client = pytd.Client(database=database, apikey=td_api_key)\n",
        "  client.load_table_from_dataframe(movies, '{}.{}'.format(database, 'movielens_movies'), if_exists='overwrite')\n",
        "  client.load_table_from_dataframe(ratings, '{}.{}'.format(database, 'movielens_ratings'), if_exists='overwrite')\n",
        "else:\n",
        "  for table in ['movielens_movies', 'movielens_ratings']:\n",
        "    recreate_table(c, table)\n",
        "  td.to_td(ratings, '{}.{}'.format(database, 'movielens_ratings'), con, if_exists='replace', time_col='time', index=False, chunksize=100000)\n",
        "  td.to_td(movies, '{}.{}'.format(database, 'movielens_movies'), con, if_exists='replace', index=False)\n",
        "  time.sleep(300)"
      ],
      "execution_count": 0,
      "outputs": []
    },
    {
      "metadata": {
        "id": "P6YrMYe95p0a",
        "colab_type": "text"
      },
      "cell_type": "markdown",
      "source": [
        "# EDA"
      ]
    },
    {
      "metadata": {
        "id": "KYD2Dg_l5zWI",
        "colab_type": "text"
      },
      "cell_type": "markdown",
      "source": [
        "## movielens_movies"
      ]
    },
    {
      "metadata": {
        "id": "xIGLRvK6_d3f",
        "colab_type": "text"
      },
      "cell_type": "markdown",
      "source": [
        "### Sample"
      ]
    },
    {
      "metadata": {
        "id": "jJAMJJ0v5uta",
        "colab_type": "code",
        "outputId": "32e53d26-aa4c-4f83-c882-646660cea304",
        "colab": {
          "base_uri": "https://localhost:8080/",
          "height": 111
        }
      },
      "cell_type": "code",
      "source": [
        "td.read_td_query('''\n",
        "select\n",
        "  *\n",
        "from \n",
        "  movielens_movies\n",
        "limit 2\n",
        "''', engine=presto)"
      ],
      "execution_count": 6,
      "outputs": [
        {
          "output_type": "execute_result",
          "data": {
            "text/html": [
              "<div>\n",
              "<style scoped>\n",
              "    .dataframe tbody tr th:only-of-type {\n",
              "        vertical-align: middle;\n",
              "    }\n",
              "\n",
              "    .dataframe tbody tr th {\n",
              "        vertical-align: top;\n",
              "    }\n",
              "\n",
              "    .dataframe thead th {\n",
              "        text-align: right;\n",
              "    }\n",
              "</style>\n",
              "<table border=\"1\" class=\"dataframe\">\n",
              "  <thead>\n",
              "    <tr style=\"text-align: right;\">\n",
              "      <th></th>\n",
              "      <th>movie_id</th>\n",
              "      <th>title</th>\n",
              "      <th>genres</th>\n",
              "      <th>time</th>\n",
              "    </tr>\n",
              "  </thead>\n",
              "  <tbody>\n",
              "    <tr>\n",
              "      <th>0</th>\n",
              "      <td>1</td>\n",
              "      <td>Toy Story (1995)</td>\n",
              "      <td>Animation|Children's|Comedy</td>\n",
              "      <td>1550829875</td>\n",
              "    </tr>\n",
              "    <tr>\n",
              "      <th>1</th>\n",
              "      <td>2</td>\n",
              "      <td>Jumanji (1995)</td>\n",
              "      <td>Adventure|Children's|Fantasy</td>\n",
              "      <td>1550829875</td>\n",
              "    </tr>\n",
              "  </tbody>\n",
              "</table>\n",
              "</div>"
            ],
            "text/plain": [
              "   movie_id             title                        genres        time\n",
              "0         1  Toy Story (1995)   Animation|Children's|Comedy  1550829875\n",
              "1         2    Jumanji (1995)  Adventure|Children's|Fantasy  1550829875"
            ]
          },
          "metadata": {
            "tags": []
          },
          "execution_count": 6
        }
      ]
    },
    {
      "metadata": {
        "id": "BiMUtrsh_g0a",
        "colab_type": "text"
      },
      "cell_type": "markdown",
      "source": [
        "### Size"
      ]
    },
    {
      "metadata": {
        "id": "snFcKzQ0_VFS",
        "colab_type": "code",
        "outputId": "0ecd7fa9-7997-4d4d-b88e-45456962e9f8",
        "colab": {
          "base_uri": "https://localhost:8080/",
          "height": 80
        }
      },
      "cell_type": "code",
      "source": [
        "td.read_td_query('''\n",
        "select\n",
        "  count(*)\n",
        "from\n",
        "  movielens_movies\n",
        "''', engine=presto)"
      ],
      "execution_count": 7,
      "outputs": [
        {
          "output_type": "execute_result",
          "data": {
            "text/html": [
              "<div>\n",
              "<style scoped>\n",
              "    .dataframe tbody tr th:only-of-type {\n",
              "        vertical-align: middle;\n",
              "    }\n",
              "\n",
              "    .dataframe tbody tr th {\n",
              "        vertical-align: top;\n",
              "    }\n",
              "\n",
              "    .dataframe thead th {\n",
              "        text-align: right;\n",
              "    }\n",
              "</style>\n",
              "<table border=\"1\" class=\"dataframe\">\n",
              "  <thead>\n",
              "    <tr style=\"text-align: right;\">\n",
              "      <th></th>\n",
              "      <th>_col0</th>\n",
              "    </tr>\n",
              "  </thead>\n",
              "  <tbody>\n",
              "    <tr>\n",
              "      <th>0</th>\n",
              "      <td>3883</td>\n",
              "    </tr>\n",
              "  </tbody>\n",
              "</table>\n",
              "</div>"
            ],
            "text/plain": [
              "   _col0\n",
              "0   3883"
            ]
          },
          "metadata": {
            "tags": []
          },
          "execution_count": 7
        }
      ]
    },
    {
      "metadata": {
        "id": "Mp5tmvZP_jm4",
        "colab_type": "text"
      },
      "cell_type": "markdown",
      "source": [
        "### # of movies for each genres"
      ]
    },
    {
      "metadata": {
        "id": "JbbnK1BH_ryV",
        "colab_type": "code",
        "outputId": "b3cb850d-242b-4cf5-df86-caa9b430bf33",
        "colab": {
          "base_uri": "https://localhost:8080/",
          "height": 279
        }
      },
      "cell_type": "code",
      "source": [
        "td.read_td_query('''\n",
        "  select\n",
        "    genre\n",
        "    ,count(*) as n\n",
        "  from\n",
        "    movielens_movies\n",
        "  CROSS JOIN \n",
        "    UNNEST(genres) AS t (genre)\n",
        "  group by\n",
        "    1''', engine=presto, index_col='genre').sort_values('n', ascending=False).plot.bar(figsize=(10,3))\n",
        "plt.show()"
      ],
      "execution_count": 0,
      "outputs": [
        {
          "output_type": "display_data",
          "data": {
            "image/png": "[encoded data removed]",
            "text/plain": [
              "<Figure size 720x216 with 1 Axes>"
            ]
          },
          "metadata": {
            "tags": []
          }
        }
      ]
    },
    {
      "metadata": {
        "id": "XoBHoYtFHESp",
        "colab_type": "text"
      },
      "cell_type": "markdown",
      "source": [
        "## ratings"
      ]
    },
    {
      "metadata": {
        "id": "2S0DFdm7HO0o",
        "colab_type": "text"
      },
      "cell_type": "markdown",
      "source": [
        "### sample"
      ]
    },
    {
      "metadata": {
        "id": "52gA_Tn0HGQ6",
        "colab_type": "code",
        "outputId": "43b36b2b-9c0c-4e4a-d75f-2630e9abb4d9",
        "colab": {
          "base_uri": "https://localhost:8080/",
          "height": 204
        }
      },
      "cell_type": "code",
      "source": [
        "td.read_td_query('''\n",
        "select\n",
        "  *\n",
        "from\n",
        "  movielens_ratings\n",
        "limit 5\n",
        "''', engine=presto)"
      ],
      "execution_count": 8,
      "outputs": [
        {
          "output_type": "execute_result",
          "data": {
            "text/html": [
              "<div>\n",
              "<style scoped>\n",
              "    .dataframe tbody tr th:only-of-type {\n",
              "        vertical-align: middle;\n",
              "    }\n",
              "\n",
              "    .dataframe tbody tr th {\n",
              "        vertical-align: top;\n",
              "    }\n",
              "\n",
              "    .dataframe thead th {\n",
              "        text-align: right;\n",
              "    }\n",
              "</style>\n",
              "<table border=\"1\" class=\"dataframe\">\n",
              "  <thead>\n",
              "    <tr style=\"text-align: right;\">\n",
              "      <th></th>\n",
              "      <th>user_id</th>\n",
              "      <th>movie_id</th>\n",
              "      <th>rating</th>\n",
              "      <th>rowid</th>\n",
              "      <th>time</th>\n",
              "    </tr>\n",
              "  </thead>\n",
              "  <tbody>\n",
              "    <tr>\n",
              "      <th>0</th>\n",
              "      <td>1</td>\n",
              "      <td>1193</td>\n",
              "      <td>5</td>\n",
              "      <td>0</td>\n",
              "      <td>978300760</td>\n",
              "    </tr>\n",
              "    <tr>\n",
              "      <th>1</th>\n",
              "      <td>1</td>\n",
              "      <td>661</td>\n",
              "      <td>3</td>\n",
              "      <td>1</td>\n",
              "      <td>978302109</td>\n",
              "    </tr>\n",
              "    <tr>\n",
              "      <th>2</th>\n",
              "      <td>1</td>\n",
              "      <td>914</td>\n",
              "      <td>3</td>\n",
              "      <td>2</td>\n",
              "      <td>978301968</td>\n",
              "    </tr>\n",
              "    <tr>\n",
              "      <th>3</th>\n",
              "      <td>1</td>\n",
              "      <td>3408</td>\n",
              "      <td>4</td>\n",
              "      <td>3</td>\n",
              "      <td>978300275</td>\n",
              "    </tr>\n",
              "    <tr>\n",
              "      <th>4</th>\n",
              "      <td>1</td>\n",
              "      <td>2355</td>\n",
              "      <td>5</td>\n",
              "      <td>4</td>\n",
              "      <td>978824291</td>\n",
              "    </tr>\n",
              "  </tbody>\n",
              "</table>\n",
              "</div>"
            ],
            "text/plain": [
              "   user_id  movie_id  rating  rowid       time\n",
              "0        1      1193       5      0  978300760\n",
              "1        1       661       3      1  978302109\n",
              "2        1       914       3      2  978301968\n",
              "3        1      3408       4      3  978300275\n",
              "4        1      2355       5      4  978824291"
            ]
          },
          "metadata": {
            "tags": []
          },
          "execution_count": 8
        }
      ]
    },
    {
      "metadata": {
        "id": "9DnUBt1cHNsR",
        "colab_type": "text"
      },
      "cell_type": "markdown",
      "source": [
        "### size"
      ]
    },
    {
      "metadata": {
        "id": "wUNZL16WHSTL",
        "colab_type": "code",
        "outputId": "43ad2cde-381b-4239-e82a-c6b4ee3213d2",
        "colab": {
          "base_uri": "https://localhost:8080/",
          "height": 80
        }
      },
      "cell_type": "code",
      "source": [
        "td.read_td_query('''\n",
        "select\n",
        "  count(*)\n",
        "from\n",
        "  movielens_ratings\n",
        "''', engine=presto)"
      ],
      "execution_count": 9,
      "outputs": [
        {
          "output_type": "execute_result",
          "data": {
            "text/html": [
              "<div>\n",
              "<style scoped>\n",
              "    .dataframe tbody tr th:only-of-type {\n",
              "        vertical-align: middle;\n",
              "    }\n",
              "\n",
              "    .dataframe tbody tr th {\n",
              "        vertical-align: top;\n",
              "    }\n",
              "\n",
              "    .dataframe thead th {\n",
              "        text-align: right;\n",
              "    }\n",
              "</style>\n",
              "<table border=\"1\" class=\"dataframe\">\n",
              "  <thead>\n",
              "    <tr style=\"text-align: right;\">\n",
              "      <th></th>\n",
              "      <th>_col0</th>\n",
              "    </tr>\n",
              "  </thead>\n",
              "  <tbody>\n",
              "    <tr>\n",
              "      <th>0</th>\n",
              "      <td>1000209</td>\n",
              "    </tr>\n",
              "  </tbody>\n",
              "</table>\n",
              "</div>"
            ],
            "text/plain": [
              "     _col0\n",
              "0  1000209"
            ]
          },
          "metadata": {
            "tags": []
          },
          "execution_count": 9
        }
      ]
    },
    {
      "metadata": {
        "id": "5vWsJbxeHyd2",
        "colab_type": "text"
      },
      "cell_type": "markdown",
      "source": [
        "### # of movies for each rate"
      ]
    },
    {
      "metadata": {
        "id": "fJsMJ9QxH3Gz",
        "colab_type": "code",
        "outputId": "a2950017-a7d5-419f-84cc-cd9f26d5137b",
        "colab": {
          "base_uri": "https://localhost:8080/",
          "height": 275
        }
      },
      "cell_type": "code",
      "source": [
        "td.read_td_query('''\n",
        "  select\n",
        "    rating\n",
        "    ,count(*) as n\n",
        "  from\n",
        "    movielens_ratings\n",
        "  group by\n",
        "    1''', engine=presto, index_col='rating').sort_index().plot.bar();plt.show()"
      ],
      "execution_count": 0,
      "outputs": [
        {
          "output_type": "display_data",
          "data": {
            "image/png": "[encoded data removed]",
            "text/plain": [
              "<Figure size 432x288 with 1 Axes>"
            ]
          },
          "metadata": {
            "tags": []
          }
        }
      ]
    },
    {
      "metadata": {
        "id": "WZXPps6kHZf-",
        "colab_type": "text"
      },
      "cell_type": "markdown",
      "source": [
        "### # of users and movies"
      ]
    },
    {
      "metadata": {
        "id": "NMuku3NcHgL6",
        "colab_type": "code",
        "outputId": "a5968487-ea23-4008-cf52-df7a8212307c",
        "colab": {
          "base_uri": "https://localhost:8080/",
          "height": 80
        }
      },
      "cell_type": "code",
      "source": [
        "td.read_td_query('''\n",
        "select \n",
        "  count(distinct user_id) as users\n",
        "  ,cast(count(*) as double) / count(distinct movie_id) as users_per_movie\n",
        "  ,count(distinct movie_id) as movies\n",
        "  ,cast(count(*) as double) / count(distinct user_id) as movies_per_user\n",
        "from\n",
        "  movielens_ratings\n",
        "''', engine=presto)"
      ],
      "execution_count": 10,
      "outputs": [
        {
          "output_type": "execute_result",
          "data": {
            "text/html": [
              "<div>\n",
              "<style scoped>\n",
              "    .dataframe tbody tr th:only-of-type {\n",
              "        vertical-align: middle;\n",
              "    }\n",
              "\n",
              "    .dataframe tbody tr th {\n",
              "        vertical-align: top;\n",
              "    }\n",
              "\n",
              "    .dataframe thead th {\n",
              "        text-align: right;\n",
              "    }\n",
              "</style>\n",
              "<table border=\"1\" class=\"dataframe\">\n",
              "  <thead>\n",
              "    <tr style=\"text-align: right;\">\n",
              "      <th></th>\n",
              "      <th>users</th>\n",
              "      <th>users_per_movie</th>\n",
              "      <th>movies</th>\n",
              "      <th>movies_per_user</th>\n",
              "    </tr>\n",
              "  </thead>\n",
              "  <tbody>\n",
              "    <tr>\n",
              "      <th>0</th>\n",
              "      <td>6040</td>\n",
              "      <td>269.889099</td>\n",
              "      <td>3706</td>\n",
              "      <td>165.597517</td>\n",
              "    </tr>\n",
              "  </tbody>\n",
              "</table>\n",
              "</div>"
            ],
            "text/plain": [
              "   users  users_per_movie  movies  movies_per_user\n",
              "0   6040       269.889099    3706       165.597517"
            ]
          },
          "metadata": {
            "tags": []
          },
          "execution_count": 10
        }
      ]
    },
    {
      "metadata": {
        "id": "fvR1C1PcHmKW",
        "colab_type": "text"
      },
      "cell_type": "markdown",
      "source": [
        "### histgram of # of watched movies for each user"
      ]
    },
    {
      "metadata": {
        "id": "dbtUJcKHxdos",
        "colab_type": "code",
        "outputId": "18aaa4de-382b-4f89-bb6e-378783c736ca",
        "colab": {
          "base_uri": "https://localhost:8080/",
          "height": 80
        }
      },
      "cell_type": "code",
      "source": [
        "td.read_td_query('''\n",
        "with users as (\n",
        "  select\n",
        "    user_id\n",
        "    ,count(*) as n\n",
        "  from\n",
        "    movielens_ratings\n",
        "  group by\n",
        "    1\n",
        ")\n",
        "\n",
        "select\n",
        "  avg(n) as mean, min(n) as min, approx_percentile(n, 0.25) as q1, approx_percentile(n, 0.5) as q2, approx_percentile(n, 0.75) as q3, max(n) as max\n",
        "from\n",
        "  users\n",
        "''', engine=presto)"
      ],
      "execution_count": 11,
      "outputs": [
        {
          "output_type": "execute_result",
          "data": {
            "text/html": [
              "<div>\n",
              "<style scoped>\n",
              "    .dataframe tbody tr th:only-of-type {\n",
              "        vertical-align: middle;\n",
              "    }\n",
              "\n",
              "    .dataframe tbody tr th {\n",
              "        vertical-align: top;\n",
              "    }\n",
              "\n",
              "    .dataframe thead th {\n",
              "        text-align: right;\n",
              "    }\n",
              "</style>\n",
              "<table border=\"1\" class=\"dataframe\">\n",
              "  <thead>\n",
              "    <tr style=\"text-align: right;\">\n",
              "      <th></th>\n",
              "      <th>mean</th>\n",
              "      <th>min</th>\n",
              "      <th>q1</th>\n",
              "      <th>q2</th>\n",
              "      <th>q3</th>\n",
              "      <th>max</th>\n",
              "    </tr>\n",
              "  </thead>\n",
              "  <tbody>\n",
              "    <tr>\n",
              "      <th>0</th>\n",
              "      <td>165.597517</td>\n",
              "      <td>20</td>\n",
              "      <td>44</td>\n",
              "      <td>96</td>\n",
              "      <td>208</td>\n",
              "      <td>2314</td>\n",
              "    </tr>\n",
              "  </tbody>\n",
              "</table>\n",
              "</div>"
            ],
            "text/plain": [
              "         mean  min  q1  q2   q3   max\n",
              "0  165.597517   20  44  96  208  2314"
            ]
          },
          "metadata": {
            "tags": []
          },
          "execution_count": 11
        }
      ]
    },
    {
      "metadata": {
        "id": "6T9eh21jHpNe",
        "colab_type": "code",
        "outputId": "ceed6eea-9f46-4747-aedf-1850db7fdb6a",
        "colab": {
          "base_uri": "https://localhost:8080/",
          "height": 280
        }
      },
      "cell_type": "code",
      "source": [
        "td.read_td_query('''\n",
        "  select\n",
        "    user_id\n",
        "    ,count(*) as n\n",
        "  from\n",
        "    movielens_ratings\n",
        "  group by\n",
        "    1''', engine=presto, index_col='user_id').hist(bins=20, range=(0,500));"
      ],
      "execution_count": 0,
      "outputs": [
        {
          "output_type": "display_data",
          "data": {
            "image/png": "[encoded data removed]",
            "text/plain": [
              "<Figure size 432x288 with 1 Axes>"
            ]
          },
          "metadata": {
            "tags": []
          }
        }
      ]
    },
    {
      "metadata": {
        "id": "Us2A46fZJL-5",
        "colab_type": "text"
      },
      "cell_type": "markdown",
      "source": [
        "### histgram of # of watching users for each movie"
      ]
    },
    {
      "metadata": {
        "id": "4zKrgoxUyGfc",
        "colab_type": "code",
        "outputId": "05ff95fc-7f01-46af-9cbb-e891b7d6259d",
        "colab": {
          "base_uri": "https://localhost:8080/",
          "height": 80
        }
      },
      "cell_type": "code",
      "source": [
        "td.read_td_query('''\n",
        "with movies as (\n",
        "  select\n",
        "    movie_id\n",
        "    ,count(*) as n\n",
        "  from\n",
        "    movielens_ratings\n",
        "  group by\n",
        "    1\n",
        ")\n",
        "\n",
        "select\n",
        "  avg(n) as mean, min(n) as min, approx_percentile(n, 0.25) as q1, approx_percentile(n, 0.5) as q2, approx_percentile(n, 0.75) as q3, max(n) as max\n",
        "from\n",
        "  movies\n",
        "''', engine=presto)"
      ],
      "execution_count": 12,
      "outputs": [
        {
          "output_type": "execute_result",
          "data": {
            "text/html": [
              "<div>\n",
              "<style scoped>\n",
              "    .dataframe tbody tr th:only-of-type {\n",
              "        vertical-align: middle;\n",
              "    }\n",
              "\n",
              "    .dataframe tbody tr th {\n",
              "        vertical-align: top;\n",
              "    }\n",
              "\n",
              "    .dataframe thead th {\n",
              "        text-align: right;\n",
              "    }\n",
              "</style>\n",
              "<table border=\"1\" class=\"dataframe\">\n",
              "  <thead>\n",
              "    <tr style=\"text-align: right;\">\n",
              "      <th></th>\n",
              "      <th>mean</th>\n",
              "      <th>min</th>\n",
              "      <th>q1</th>\n",
              "      <th>q2</th>\n",
              "      <th>q3</th>\n",
              "      <th>max</th>\n",
              "    </tr>\n",
              "  </thead>\n",
              "  <tbody>\n",
              "    <tr>\n",
              "      <th>0</th>\n",
              "      <td>269.889099</td>\n",
              "      <td>1</td>\n",
              "      <td>33</td>\n",
              "      <td>124</td>\n",
              "      <td>351</td>\n",
              "      <td>3428</td>\n",
              "    </tr>\n",
              "  </tbody>\n",
              "</table>\n",
              "</div>"
            ],
            "text/plain": [
              "         mean  min  q1   q2   q3   max\n",
              "0  269.889099    1  33  124  351  3428"
            ]
          },
          "metadata": {
            "tags": []
          },
          "execution_count": 12
        }
      ]
    },
    {
      "metadata": {
        "id": "v3C7mUzcJRXh",
        "colab_type": "code",
        "outputId": "1767f067-fbb5-4d7e-8d1b-7f0f4912e9ef",
        "colab": {
          "base_uri": "https://localhost:8080/",
          "height": 280
        }
      },
      "cell_type": "code",
      "source": [
        "td.read_td_query('''\n",
        "  select\n",
        "    movie_id\n",
        "    ,count(*) as n\n",
        "  from\n",
        "    movielens_ratings\n",
        "  group by\n",
        "    1''', engine=presto, index_col='movie_id').hist(bins=20, range=(0,500));"
      ],
      "execution_count": 0,
      "outputs": [
        {
          "output_type": "display_data",
          "data": {
            "image/png": "[encoded data removed]",
            "text/plain": [
              "<Figure size 432x288 with 1 Axes>"
            ]
          },
          "metadata": {
            "tags": []
          }
        }
      ]
    },
    {
      "metadata": {
        "id": "c8CGUPh36F-v",
        "colab_type": "text"
      },
      "cell_type": "markdown",
      "source": [
        "# Preprocessing"
      ]
    },
    {
      "metadata": {
        "id": "gJ_3ZtZh6IPe",
        "colab_type": "text"
      },
      "cell_type": "markdown",
      "source": [
        "Split `movielens_ratings` into train and test"
      ]
    },
    {
      "metadata": {
        "id": "454ex6DE6RBK",
        "colab_type": "code",
        "colab": {}
      },
      "cell_type": "code",
      "source": [
        "recreate_table(c, 'movielens_ratings_split_train_test')"
      ],
      "execution_count": 0,
      "outputs": []
    },
    {
      "metadata": {
        "id": "jRSsvPum6HsF",
        "colab_type": "code",
        "outputId": "d48deeca-b1b8-4de8-9ea5-ebb0409d19a8",
        "colab": {
          "base_uri": "https://localhost:8080/",
          "height": 80
        }
      },
      "cell_type": "code",
      "source": [
        "td.read_td_query('''\n",
        "insert into movielens_ratings_split_train_test \n",
        "with split as (\n",
        "  select\n",
        "    *\n",
        "    ,case when rand() < 0.8 then 0 else 1 end as test_flg\n",
        "  from\n",
        "    movielens_ratings\n",
        ")\n",
        "\n",
        "select\n",
        "  split.*\n",
        "from \n",
        "  split\n",
        "  inner join (\n",
        "    select\n",
        "      distinct movie_id\n",
        "    from\n",
        "      split\n",
        "    where\n",
        "       test_flg = 0\n",
        "  ) movies_in_train\n",
        "  on\n",
        "    split.movie_id = movies_in_train.movie_id\n",
        "''', engine=presto)"
      ],
      "execution_count": 14,
      "outputs": [
        {
          "output_type": "execute_result",
          "data": {
            "text/html": [
              "<div>\n",
              "<style scoped>\n",
              "    .dataframe tbody tr th:only-of-type {\n",
              "        vertical-align: middle;\n",
              "    }\n",
              "\n",
              "    .dataframe tbody tr th {\n",
              "        vertical-align: top;\n",
              "    }\n",
              "\n",
              "    .dataframe thead th {\n",
              "        text-align: right;\n",
              "    }\n",
              "</style>\n",
              "<table border=\"1\" class=\"dataframe\">\n",
              "  <thead>\n",
              "    <tr style=\"text-align: right;\">\n",
              "      <th></th>\n",
              "      <th>rows</th>\n",
              "    </tr>\n",
              "  </thead>\n",
              "  <tbody>\n",
              "    <tr>\n",
              "      <th>0</th>\n",
              "      <td>1000181</td>\n",
              "    </tr>\n",
              "  </tbody>\n",
              "</table>\n",
              "</div>"
            ],
            "text/plain": [
              "      rows\n",
              "0  1000181"
            ]
          },
          "metadata": {
            "tags": []
          },
          "execution_count": 14
        }
      ]
    },
    {
      "metadata": {
        "id": "DxIEUhNP5rw0",
        "colab_type": "text"
      },
      "cell_type": "markdown",
      "source": [
        "# Build a model"
      ]
    },
    {
      "metadata": {
        "id": "t84OHSjL1H05",
        "colab_type": "code",
        "colab": {}
      },
      "cell_type": "code",
      "source": [
        "recreate_table(c, 'movielens_mf_model')"
      ],
      "execution_count": 0,
      "outputs": []
    },
    {
      "metadata": {
        "id": "SyFFjC_A38Pt",
        "colab_type": "code",
        "outputId": "57ae9a25-3cf7-49d3-9115-c6ccd96cccd5",
        "colab": {
          "base_uri": "https://localhost:8080/",
          "height": 80
        }
      },
      "cell_type": "code",
      "source": [
        "td.read_td_query('''\n",
        "select\n",
        "  avg(rating)\n",
        "from\n",
        "  movielens_ratings_split_train_test\n",
        "where\n",
        "  test_flg = 0\n",
        "''', engine=presto)"
      ],
      "execution_count": 15,
      "outputs": [
        {
          "output_type": "execute_result",
          "data": {
            "text/html": [
              "<div>\n",
              "<style scoped>\n",
              "    .dataframe tbody tr th:only-of-type {\n",
              "        vertical-align: middle;\n",
              "    }\n",
              "\n",
              "    .dataframe tbody tr th {\n",
              "        vertical-align: top;\n",
              "    }\n",
              "\n",
              "    .dataframe thead th {\n",
              "        text-align: right;\n",
              "    }\n",
              "</style>\n",
              "<table border=\"1\" class=\"dataframe\">\n",
              "  <thead>\n",
              "    <tr style=\"text-align: right;\">\n",
              "      <th></th>\n",
              "      <th>_col0</th>\n",
              "    </tr>\n",
              "  </thead>\n",
              "  <tbody>\n",
              "    <tr>\n",
              "      <th>0</th>\n",
              "      <td>3.581573</td>\n",
              "    </tr>\n",
              "  </tbody>\n",
              "</table>\n",
              "</div>"
            ],
            "text/plain": [
              "      _col0\n",
              "0  3.581573"
            ]
          },
          "metadata": {
            "tags": []
          },
          "execution_count": 15
        }
      ]
    },
    {
      "metadata": {
        "id": "WOcjnryd20eI",
        "colab_type": "code",
        "outputId": "677b3127-7288-4a6e-a84a-976d140487ea",
        "colab": {
          "base_uri": "https://localhost:8080/",
          "height": 136
        }
      },
      "cell_type": "code",
      "source": [
        "td.read_td_query('''\n",
        "insert overwrite table movielens_mf_model\n",
        "select\n",
        "  idx, \n",
        "  array_avg(u_rank) as Pu, \n",
        "  array_avg(m_rank) as Qi, \n",
        "  avg(u_bias) as Bu, \n",
        "  avg(m_bias) as Bi\n",
        "from (\n",
        "  select \n",
        "    train_mf_sgd(user_id, movie_id, rating, '-factor 10 -mu 3.582 -iter 50') as (idx, u_rank, m_rank, u_bias, m_bias)\n",
        "  from \n",
        "    movielens_ratings_split_train_test\n",
        "  where\n",
        "    test_flg = 0\n",
        ") t\n",
        "group by idx\n",
        "''', engine=hive)"
      ],
      "execution_count": 16,
      "outputs": [
        {
          "output_type": "display_data",
          "data": {
            "text/html": [
              "<div style=\"border-style: dashed; border-width: 1px;\">\n",
              "<div style=\"color: #888;\"># issued at 2019-02-22T10:06:44Z</div>URL: <a href=\"https://console.treasuredata.com/jobs/418119014\" target=\"_blank\">https://console.treasuredata.com/jobs/418119014</a><br>\n",
              "Result size: 20 bytes<br>\n",
              "Download: 20 / 20 bytes (100.00%)<br>\n",
              "<div style=\"color: #888;\"># downloaded at 2019-02-22T10:07:46Z</div></div>\n"
            ],
            "text/plain": [
              "<IPython.core.display.HTML object>"
            ]
          },
          "metadata": {
            "tags": []
          }
        },
        {
          "output_type": "execute_result",
          "data": {
            "text/html": [
              "<div>\n",
              "<style scoped>\n",
              "    .dataframe tbody tr th:only-of-type {\n",
              "        vertical-align: middle;\n",
              "    }\n",
              "\n",
              "    .dataframe tbody tr th {\n",
              "        vertical-align: top;\n",
              "    }\n",
              "\n",
              "    .dataframe thead th {\n",
              "        text-align: right;\n",
              "    }\n",
              "</style>\n",
              "<table border=\"1\" class=\"dataframe\">\n",
              "  <thead>\n",
              "    <tr style=\"text-align: right;\">\n",
              "      <th></th>\n",
              "      <th>idx</th>\n",
              "      <th>pu</th>\n",
              "      <th>qi</th>\n",
              "      <th>bu</th>\n",
              "      <th>bi</th>\n",
              "    </tr>\n",
              "  </thead>\n",
              "  <tbody>\n",
              "  </tbody>\n",
              "</table>\n",
              "</div>"
            ],
            "text/plain": [
              "Empty DataFrame\n",
              "Columns: [idx, pu, qi, bu, bi]\n",
              "Index: []"
            ]
          },
          "metadata": {
            "tags": []
          },
          "execution_count": 16
        }
      ]
    },
    {
      "metadata": {
        "id": "1Zb0BxDwBcnD",
        "colab_type": "text"
      },
      "cell_type": "markdown",
      "source": [
        "Check the created table."
      ]
    },
    {
      "metadata": {
        "id": "OJKGNH2b5pSN",
        "colab_type": "code",
        "outputId": "4f59b02f-b4fd-462e-dc3e-26fa8447f01a",
        "colab": {
          "base_uri": "https://localhost:8080/",
          "height": 289
        }
      },
      "cell_type": "code",
      "source": [
        "td.read_td_query('''\n",
        "select\n",
        "  *\n",
        "from\n",
        "  movielens_mf_model\n",
        "limit 5\n",
        "''', engine=hive)"
      ],
      "execution_count": 17,
      "outputs": [
        {
          "output_type": "execute_result",
          "data": {
            "text/html": [
              "<div>\n",
              "<style scoped>\n",
              "    .dataframe tbody tr th:only-of-type {\n",
              "        vertical-align: middle;\n",
              "    }\n",
              "\n",
              "    .dataframe tbody tr th {\n",
              "        vertical-align: top;\n",
              "    }\n",
              "\n",
              "    .dataframe thead th {\n",
              "        text-align: right;\n",
              "    }\n",
              "</style>\n",
              "<table border=\"1\" class=\"dataframe\">\n",
              "  <thead>\n",
              "    <tr style=\"text-align: right;\">\n",
              "      <th></th>\n",
              "      <th>idx</th>\n",
              "      <th>pu</th>\n",
              "      <th>qi</th>\n",
              "      <th>bu</th>\n",
              "      <th>bi</th>\n",
              "      <th>v</th>\n",
              "      <th>time</th>\n",
              "    </tr>\n",
              "  </thead>\n",
              "  <tbody>\n",
              "    <tr>\n",
              "      <th>0</th>\n",
              "      <td>0</td>\n",
              "      <td>None</td>\n",
              "      <td>None</td>\n",
              "      <td>0.000000</td>\n",
              "      <td>0.000000</td>\n",
              "      <td>{'time': '1550830004', 'idx': '0', 'bi': '0.0'...</td>\n",
              "      <td>1550830004</td>\n",
              "    </tr>\n",
              "    <tr>\n",
              "      <th>1</th>\n",
              "      <td>1</td>\n",
              "      <td>[-0.35504552721977234, 0.6105542778968811, 0.6...</td>\n",
              "      <td>[0.20341399312019348, 0.3009406328201294, -0.0...</td>\n",
              "      <td>0.003905</td>\n",
              "      <td>0.554420</td>\n",
              "      <td>{'time': '1550830004', 'idx': '1', 'bi': '0.55...</td>\n",
              "      <td>1550830004</td>\n",
              "    </tr>\n",
              "    <tr>\n",
              "      <th>2</th>\n",
              "      <td>2</td>\n",
              "      <td>[-0.016563519835472107, -0.34515732526779175, ...</td>\n",
              "      <td>[-0.2695683538913727, 0.02534143626689911, -0....</td>\n",
              "      <td>-0.033781</td>\n",
              "      <td>-0.275475</td>\n",
              "      <td>{'time': '1550830004', 'idx': '2', 'bi': '-0.2...</td>\n",
              "      <td>1550830004</td>\n",
              "    </tr>\n",
              "    <tr>\n",
              "      <th>3</th>\n",
              "      <td>3</td>\n",
              "      <td>[-0.579686164855957, -0.2448955774307251, -0.5...</td>\n",
              "      <td>[-0.12964022159576416, -0.04885559901595116, 0...</td>\n",
              "      <td>-0.003477</td>\n",
              "      <td>-0.497057</td>\n",
              "      <td>{'time': '1550830004', 'idx': '3', 'bi': '-0.4...</td>\n",
              "      <td>1550830004</td>\n",
              "    </tr>\n",
              "    <tr>\n",
              "      <th>4</th>\n",
              "      <td>4</td>\n",
              "      <td>[0.3183121383190155, 0.8762376308441162, -0.50...</td>\n",
              "      <td>[-0.11252906918525696, 0.016183411702513695, -...</td>\n",
              "      <td>-0.000968</td>\n",
              "      <td>-0.568835</td>\n",
              "      <td>{'time': '1550830004', 'idx': '4', 'bi': '-0.5...</td>\n",
              "      <td>1550830004</td>\n",
              "    </tr>\n",
              "  </tbody>\n",
              "</table>\n",
              "</div>"
            ],
            "text/plain": [
              "   idx                                                 pu  \\\n",
              "0    0                                               None   \n",
              "1    1  [-0.35504552721977234, 0.6105542778968811, 0.6...   \n",
              "2    2  [-0.016563519835472107, -0.34515732526779175, ...   \n",
              "3    3  [-0.579686164855957, -0.2448955774307251, -0.5...   \n",
              "4    4  [0.3183121383190155, 0.8762376308441162, -0.50...   \n",
              "\n",
              "                                                  qi        bu        bi  \\\n",
              "0                                               None  0.000000  0.000000   \n",
              "1  [0.20341399312019348, 0.3009406328201294, -0.0...  0.003905  0.554420   \n",
              "2  [-0.2695683538913727, 0.02534143626689911, -0.... -0.033781 -0.275475   \n",
              "3  [-0.12964022159576416, -0.04885559901595116, 0... -0.003477 -0.497057   \n",
              "4  [-0.11252906918525696, 0.016183411702513695, -... -0.000968 -0.568835   \n",
              "\n",
              "                                                   v        time  \n",
              "0  {'time': '1550830004', 'idx': '0', 'bi': '0.0'...  1550830004  \n",
              "1  {'time': '1550830004', 'idx': '1', 'bi': '0.55...  1550830004  \n",
              "2  {'time': '1550830004', 'idx': '2', 'bi': '-0.2...  1550830004  \n",
              "3  {'time': '1550830004', 'idx': '3', 'bi': '-0.4...  1550830004  \n",
              "4  {'time': '1550830004', 'idx': '4', 'bi': '-0.5...  1550830004  "
            ]
          },
          "metadata": {
            "tags": []
          },
          "execution_count": 17
        }
      ]
    },
    {
      "metadata": {
        "id": "_LmsTWPN2plc",
        "colab_type": "code",
        "outputId": "99ec19a2-a7ad-4c72-be34-f9bceb26ee31",
        "colab": {
          "base_uri": "https://localhost:8080/",
          "height": 80
        }
      },
      "cell_type": "code",
      "source": [
        "td.read_td_query('''\n",
        "select\n",
        "  count(pu) as n_pu -- the number of users\n",
        "  ,count(qi) as n_qi -- the number of movies\n",
        "from\n",
        "  movielens_mf_model\n",
        "''', engine=presto)"
      ],
      "execution_count": 18,
      "outputs": [
        {
          "output_type": "execute_result",
          "data": {
            "text/html": [
              "<div>\n",
              "<style scoped>\n",
              "    .dataframe tbody tr th:only-of-type {\n",
              "        vertical-align: middle;\n",
              "    }\n",
              "\n",
              "    .dataframe tbody tr th {\n",
              "        vertical-align: top;\n",
              "    }\n",
              "\n",
              "    .dataframe thead th {\n",
              "        text-align: right;\n",
              "    }\n",
              "</style>\n",
              "<table border=\"1\" class=\"dataframe\">\n",
              "  <thead>\n",
              "    <tr style=\"text-align: right;\">\n",
              "      <th></th>\n",
              "      <th>n_pu</th>\n",
              "      <th>n_qi</th>\n",
              "    </tr>\n",
              "  </thead>\n",
              "  <tbody>\n",
              "    <tr>\n",
              "      <th>0</th>\n",
              "      <td>6040</td>\n",
              "      <td>3655</td>\n",
              "    </tr>\n",
              "  </tbody>\n",
              "</table>\n",
              "</div>"
            ],
            "text/plain": [
              "   n_pu  n_qi\n",
              "0  6040  3655"
            ]
          },
          "metadata": {
            "tags": []
          },
          "execution_count": 18
        }
      ]
    },
    {
      "metadata": {
        "id": "4TkzmH8CCgpw",
        "colab_type": "code",
        "outputId": "0d97997b-46db-4dd7-b3e6-ce9dff1fd5f1",
        "colab": {
          "base_uri": "https://localhost:8080/",
          "height": 80
        }
      },
      "cell_type": "code",
      "source": [
        "td.read_td_query('''\n",
        "select\n",
        "  cardinality(pu) as length_pu\n",
        "  ,cardinality(qi) as length_qi\n",
        "from\n",
        "  movielens_mf_model\n",
        "where\n",
        "  idx = 1\n",
        "''', engine=presto)"
      ],
      "execution_count": 19,
      "outputs": [
        {
          "output_type": "execute_result",
          "data": {
            "text/html": [
              "<div>\n",
              "<style scoped>\n",
              "    .dataframe tbody tr th:only-of-type {\n",
              "        vertical-align: middle;\n",
              "    }\n",
              "\n",
              "    .dataframe tbody tr th {\n",
              "        vertical-align: top;\n",
              "    }\n",
              "\n",
              "    .dataframe thead th {\n",
              "        text-align: right;\n",
              "    }\n",
              "</style>\n",
              "<table border=\"1\" class=\"dataframe\">\n",
              "  <thead>\n",
              "    <tr style=\"text-align: right;\">\n",
              "      <th></th>\n",
              "      <th>length_pu</th>\n",
              "      <th>length_qi</th>\n",
              "    </tr>\n",
              "  </thead>\n",
              "  <tbody>\n",
              "    <tr>\n",
              "      <th>0</th>\n",
              "      <td>10</td>\n",
              "      <td>10</td>\n",
              "    </tr>\n",
              "  </tbody>\n",
              "</table>\n",
              "</div>"
            ],
            "text/plain": [
              "   length_pu  length_qi\n",
              "0         10         10"
            ]
          },
          "metadata": {
            "tags": []
          },
          "execution_count": 19
        }
      ]
    },
    {
      "metadata": {
        "id": "CrJuMSadBhgI",
        "colab_type": "text"
      },
      "cell_type": "markdown",
      "source": [
        "The table, `movielens_mf_model`, represents factors of user_id and movie_id.  \n",
        "Concretely, `pu`, `qi`, `bu`, `bi` of idx = 1 represents the factor of user_id = 1, the factor of movie_id = 1, the bias of user_id = 1 and the bias of movie_id = 1 respectively.  \n",
        "Also, confirm that length of `pu` and `qi` are same with `factor`"
      ]
    },
    {
      "metadata": {
        "id": "d7Ux1II52Y29",
        "colab_type": "text"
      },
      "cell_type": "markdown",
      "source": [
        "# Prediction"
      ]
    },
    {
      "metadata": {
        "id": "qFa2BfqjGUIr",
        "colab_type": "code",
        "colab": {}
      },
      "cell_type": "code",
      "source": [
        "recreate_table(c, 'movielens_mf_predict')"
      ],
      "execution_count": 0,
      "outputs": []
    },
    {
      "metadata": {
        "id": "XcdozscUDoXm",
        "colab_type": "code",
        "outputId": "7ad6b1e0-f50e-4f6c-afef-7113d21fed89",
        "colab": {
          "base_uri": "https://localhost:8080/",
          "height": 136
        }
      },
      "cell_type": "code",
      "source": [
        "td.read_td_query('''\n",
        "insert into table movielens_mf_predict\n",
        "select\n",
        "  test_flg\n",
        "  ,t.user_id\n",
        "  ,t.movie_id\n",
        "  ,rating\n",
        "  ,mf_predict(user_factor.pu, movie_factor.qi, user_factor.bu, movie_factor.bi, 3.582) as predicted\n",
        "from\n",
        "  movielens_ratings_split_train_test t \n",
        "  LEFT OUTER JOIN movielens_mf_model user_factor\n",
        "    ON t.user_id = user_factor.idx\n",
        "  LEFT OUTER JOIN movielens_mf_model movie_factor\n",
        "    ON t.movie_id = movie_factor.idx\n",
        "''', engine=hive)"
      ],
      "execution_count": 20,
      "outputs": [
        {
          "output_type": "display_data",
          "data": {
            "text/html": [
              "<div style=\"border-style: dashed; border-width: 1px;\">\n",
              "<div style=\"color: #888;\"># issued at 2019-02-22T10:08:08Z</div>URL: <a href=\"https://console.treasuredata.com/jobs/418119612\" target=\"_blank\">https://console.treasuredata.com/jobs/418119612</a><br>\n",
              "Result size: 20 bytes<br>\n",
              "Download: 20 / 20 bytes (100.00%)<br>\n",
              "<div style=\"color: #888;\"># downloaded at 2019-02-22T10:09:47Z</div></div>\n"
            ],
            "text/plain": [
              "<IPython.core.display.HTML object>"
            ]
          },
          "metadata": {
            "tags": []
          }
        },
        {
          "output_type": "execute_result",
          "data": {
            "text/html": [
              "<div>\n",
              "<style scoped>\n",
              "    .dataframe tbody tr th:only-of-type {\n",
              "        vertical-align: middle;\n",
              "    }\n",
              "\n",
              "    .dataframe tbody tr th {\n",
              "        vertical-align: top;\n",
              "    }\n",
              "\n",
              "    .dataframe thead th {\n",
              "        text-align: right;\n",
              "    }\n",
              "</style>\n",
              "<table border=\"1\" class=\"dataframe\">\n",
              "  <thead>\n",
              "    <tr style=\"text-align: right;\">\n",
              "      <th></th>\n",
              "      <th>test_flg</th>\n",
              "      <th>user_id</th>\n",
              "      <th>movie_id</th>\n",
              "      <th>rating</th>\n",
              "      <th>predicted</th>\n",
              "    </tr>\n",
              "  </thead>\n",
              "  <tbody>\n",
              "  </tbody>\n",
              "</table>\n",
              "</div>"
            ],
            "text/plain": [
              "Empty DataFrame\n",
              "Columns: [test_flg, user_id, movie_id, rating, predicted]\n",
              "Index: []"
            ]
          },
          "metadata": {
            "tags": []
          },
          "execution_count": 20
        }
      ]
    },
    {
      "metadata": {
        "id": "a-QkaiBxHgxH",
        "colab_type": "text"
      },
      "cell_type": "markdown",
      "source": [
        "Chech the created table"
      ]
    },
    {
      "metadata": {
        "id": "XNAX7A1BIQiG",
        "colab_type": "code",
        "outputId": "b34b1f2d-fe55-43aa-d387-c59eaf49783c",
        "colab": {
          "base_uri": "https://localhost:8080/",
          "height": 142
        }
      },
      "cell_type": "code",
      "source": [
        "td.read_td_query('''\n",
        "select\n",
        "  *\n",
        "from\n",
        "  movielens_mf_predict\n",
        "limit 3\n",
        "''', engine=presto)"
      ],
      "execution_count": 21,
      "outputs": [
        {
          "output_type": "execute_result",
          "data": {
            "text/html": [
              "<div>\n",
              "<style scoped>\n",
              "    .dataframe tbody tr th:only-of-type {\n",
              "        vertical-align: middle;\n",
              "    }\n",
              "\n",
              "    .dataframe tbody tr th {\n",
              "        vertical-align: top;\n",
              "    }\n",
              "\n",
              "    .dataframe thead th {\n",
              "        text-align: right;\n",
              "    }\n",
              "</style>\n",
              "<table border=\"1\" class=\"dataframe\">\n",
              "  <thead>\n",
              "    <tr style=\"text-align: right;\">\n",
              "      <th></th>\n",
              "      <th>test_flg</th>\n",
              "      <th>user_id</th>\n",
              "      <th>movie_id</th>\n",
              "      <th>rating</th>\n",
              "      <th>predicted</th>\n",
              "      <th>time</th>\n",
              "    </tr>\n",
              "  </thead>\n",
              "  <tbody>\n",
              "    <tr>\n",
              "      <th>0</th>\n",
              "      <td>0</td>\n",
              "      <td>964</td>\n",
              "      <td>3952</td>\n",
              "      <td>5</td>\n",
              "      <td>3.958522</td>\n",
              "      <td>1550830088</td>\n",
              "    </tr>\n",
              "    <tr>\n",
              "      <th>1</th>\n",
              "      <td>0</td>\n",
              "      <td>1010</td>\n",
              "      <td>3952</td>\n",
              "      <td>5</td>\n",
              "      <td>3.331382</td>\n",
              "      <td>1550830088</td>\n",
              "    </tr>\n",
              "    <tr>\n",
              "      <th>2</th>\n",
              "      <td>0</td>\n",
              "      <td>1009</td>\n",
              "      <td>3952</td>\n",
              "      <td>2</td>\n",
              "      <td>4.156105</td>\n",
              "      <td>1550830088</td>\n",
              "    </tr>\n",
              "  </tbody>\n",
              "</table>\n",
              "</div>"
            ],
            "text/plain": [
              "   test_flg  user_id  movie_id  rating  predicted        time\n",
              "0         0      964      3952       5   3.958522  1550830088\n",
              "1         0     1010      3952       5   3.331382  1550830088\n",
              "2         0     1009      3952       2   4.156105  1550830088"
            ]
          },
          "metadata": {
            "tags": []
          },
          "execution_count": 21
        }
      ]
    },
    {
      "metadata": {
        "id": "x3se3D2dI_eM",
        "colab_type": "text"
      },
      "cell_type": "markdown",
      "source": [
        "# Evaluation"
      ]
    },
    {
      "metadata": {
        "id": "FUNZgMOdJA9G",
        "colab_type": "code",
        "outputId": "2a05021c-637a-4755-d77d-0fa4d997786b",
        "colab": {
          "base_uri": "https://localhost:8080/",
          "height": 111
        }
      },
      "cell_type": "code",
      "source": [
        "td.read_td_query('''\n",
        "select\n",
        "  test_flg\n",
        "  ,sqrt(avg(power(rating - predicted, 2))) as rmse_model\n",
        "  ,sqrt(avg(power(rating - 4.0, 2))) as rmse_random_model\n",
        "from\n",
        "  movielens_mf_predict\n",
        "group by\n",
        "  1\n",
        "''', engine=presto)"
      ],
      "execution_count": 22,
      "outputs": [
        {
          "output_type": "execute_result",
          "data": {
            "text/html": [
              "<div>\n",
              "<style scoped>\n",
              "    .dataframe tbody tr th:only-of-type {\n",
              "        vertical-align: middle;\n",
              "    }\n",
              "\n",
              "    .dataframe tbody tr th {\n",
              "        vertical-align: top;\n",
              "    }\n",
              "\n",
              "    .dataframe thead th {\n",
              "        text-align: right;\n",
              "    }\n",
              "</style>\n",
              "<table border=\"1\" class=\"dataframe\">\n",
              "  <thead>\n",
              "    <tr style=\"text-align: right;\">\n",
              "      <th></th>\n",
              "      <th>test_flg</th>\n",
              "      <th>rmse_model</th>\n",
              "      <th>rmse_random_model</th>\n",
              "    </tr>\n",
              "  </thead>\n",
              "  <tbody>\n",
              "    <tr>\n",
              "      <th>0</th>\n",
              "      <td>1</td>\n",
              "      <td>0.902008</td>\n",
              "      <td>1.193794</td>\n",
              "    </tr>\n",
              "    <tr>\n",
              "      <th>1</th>\n",
              "      <td>0</td>\n",
              "      <td>0.853919</td>\n",
              "      <td>1.192653</td>\n",
              "    </tr>\n",
              "  </tbody>\n",
              "</table>\n",
              "</div>"
            ],
            "text/plain": [
              "   test_flg  rmse_model  rmse_random_model\n",
              "0         1    0.902008           1.193794\n",
              "1         0    0.853919           1.192653"
            ]
          },
          "metadata": {
            "tags": []
          },
          "execution_count": 22
        }
      ]
    },
    {
      "metadata": {
        "id": "ku7_ZvdKLPly",
        "colab_type": "text"
      },
      "cell_type": "markdown",
      "source": [
        "The most frequest value of `rating` is 4.0, so 4.0 is specified as a value of random model.  \n",
        "Matrix Factorization model is better than the random model."
      ]
    },
    {
      "metadata": {
        "id": "p3Z73rVlLp9I",
        "colab_type": "text"
      },
      "cell_type": "markdown",
      "source": [
        "# Recommendation"
      ]
    },
    {
      "metadata": {
        "id": "9iV7W0OqLyXd",
        "colab_type": "code",
        "colab": {}
      },
      "cell_type": "code",
      "source": [
        "recreate_table(c, 'movielens_mf_recommendation')"
      ],
      "execution_count": 0,
      "outputs": []
    },
    {
      "metadata": {
        "id": "SgFOANAXLudB",
        "colab_type": "code",
        "outputId": "07f3e381-047e-40a5-ced5-aa1a9caa2802",
        "colab": {
          "base_uri": "https://localhost:8080/",
          "height": 136
        }
      },
      "cell_type": "code",
      "source": [
        "td.read_td_query('''\n",
        "with recommend as (\n",
        "  select\n",
        "    user_factor.idx as user_id\n",
        "    ,movie_factor.idx as movie_id\n",
        "    ,mf_predict(user_factor.pu, movie_factor.qi, user_factor.bu, movie_factor.bi, 3.582) as predicted\n",
        "  from\n",
        "    movielens_mf_model user_factor\n",
        "    CROSS JOIN \n",
        "    movielens_mf_model movie_factor\n",
        "  where\n",
        "    user_factor.pu is not null\n",
        "    and\n",
        "    movie_factor.qi is not null\n",
        ")\n",
        "\n",
        "insert into table movielens_mf_recommendation\n",
        "select\n",
        "  recommend.*\n",
        "from\n",
        "  recommend\n",
        "  left outer join\n",
        "  movielens_ratings_split_train_test t\n",
        "  on\n",
        "    recommend.user_id = t.user_id\n",
        "    and\n",
        "    recommend.movie_id = t.movie_id\n",
        "where\n",
        "  t.rating is null\n",
        "''', engine=hive)"
      ],
      "execution_count": 23,
      "outputs": [
        {
          "output_type": "display_data",
          "data": {
            "text/html": [
              "<div style=\"border-style: dashed; border-width: 1px;\">\n",
              "<div style=\"color: #888;\"># issued at 2019-02-22T10:09:53Z</div>URL: <a href=\"https://console.treasuredata.com/jobs/418120435\" target=\"_blank\">https://console.treasuredata.com/jobs/418120435</a><br>\n",
              "Result size: 20 bytes<br>\n",
              "Download: 20 / 20 bytes (100.00%)<br>\n",
              "<div style=\"color: #888;\"># downloaded at 2019-02-22T10:13:28Z</div></div>\n"
            ],
            "text/plain": [
              "<IPython.core.display.HTML object>"
            ]
          },
          "metadata": {
            "tags": []
          }
        },
        {
          "output_type": "execute_result",
          "data": {
            "text/html": [
              "<div>\n",
              "<style scoped>\n",
              "    .dataframe tbody tr th:only-of-type {\n",
              "        vertical-align: middle;\n",
              "    }\n",
              "\n",
              "    .dataframe tbody tr th {\n",
              "        vertical-align: top;\n",
              "    }\n",
              "\n",
              "    .dataframe thead th {\n",
              "        text-align: right;\n",
              "    }\n",
              "</style>\n",
              "<table border=\"1\" class=\"dataframe\">\n",
              "  <thead>\n",
              "    <tr style=\"text-align: right;\">\n",
              "      <th></th>\n",
              "      <th>user_id</th>\n",
              "      <th>movie_id</th>\n",
              "      <th>predicted</th>\n",
              "    </tr>\n",
              "  </thead>\n",
              "  <tbody>\n",
              "  </tbody>\n",
              "</table>\n",
              "</div>"
            ],
            "text/plain": [
              "Empty DataFrame\n",
              "Columns: [user_id, movie_id, predicted]\n",
              "Index: []"
            ]
          },
          "metadata": {
            "tags": []
          },
          "execution_count": 23
        }
      ]
    },
    {
      "metadata": {
        "id": "JFSvJDCVss34",
        "colab_type": "text"
      },
      "cell_type": "markdown",
      "source": [
        "Based on the predicted scores, you can choose recommendations."
      ]
    },
    {
      "metadata": {
        "id": "SKHwKp8NNo0c",
        "colab_type": "code",
        "outputId": "4ddcf788-b749-43fa-ccab-75057a7e6e63",
        "colab": {
          "base_uri": "https://localhost:8080/",
          "height": 204
        }
      },
      "cell_type": "code",
      "source": [
        "td.read_td_query('''\n",
        "select\n",
        "  *\n",
        "from\n",
        "  movielens_mf_recommendation\n",
        "where\n",
        "  user_id = 4024\n",
        "order by\n",
        "  predicted desc\n",
        "limit 5\n",
        "''', engine=presto)"
      ],
      "execution_count": 26,
      "outputs": [
        {
          "output_type": "execute_result",
          "data": {
            "text/html": [
              "<div>\n",
              "<style scoped>\n",
              "    .dataframe tbody tr th:only-of-type {\n",
              "        vertical-align: middle;\n",
              "    }\n",
              "\n",
              "    .dataframe tbody tr th {\n",
              "        vertical-align: top;\n",
              "    }\n",
              "\n",
              "    .dataframe thead th {\n",
              "        text-align: right;\n",
              "    }\n",
              "</style>\n",
              "<table border=\"1\" class=\"dataframe\">\n",
              "  <thead>\n",
              "    <tr style=\"text-align: right;\">\n",
              "      <th></th>\n",
              "      <th>user_id</th>\n",
              "      <th>movie_id</th>\n",
              "      <th>predicted</th>\n",
              "      <th>time</th>\n",
              "    </tr>\n",
              "  </thead>\n",
              "  <tbody>\n",
              "    <tr>\n",
              "      <th>0</th>\n",
              "      <td>4024</td>\n",
              "      <td>260</td>\n",
              "      <td>5.283364</td>\n",
              "      <td>1549614193</td>\n",
              "    </tr>\n",
              "    <tr>\n",
              "      <th>1</th>\n",
              "      <td>4024</td>\n",
              "      <td>1198</td>\n",
              "      <td>5.182836</td>\n",
              "      <td>1549614193</td>\n",
              "    </tr>\n",
              "    <tr>\n",
              "      <th>2</th>\n",
              "      <td>4024</td>\n",
              "      <td>296</td>\n",
              "      <td>5.091716</td>\n",
              "      <td>1549614193</td>\n",
              "    </tr>\n",
              "    <tr>\n",
              "      <th>3</th>\n",
              "      <td>4024</td>\n",
              "      <td>858</td>\n",
              "      <td>5.021028</td>\n",
              "      <td>1549614193</td>\n",
              "    </tr>\n",
              "    <tr>\n",
              "      <th>4</th>\n",
              "      <td>4024</td>\n",
              "      <td>922</td>\n",
              "      <td>4.972469</td>\n",
              "      <td>1550830193</td>\n",
              "    </tr>\n",
              "  </tbody>\n",
              "</table>\n",
              "</div>"
            ],
            "text/plain": [
              "   user_id  movie_id  predicted        time\n",
              "0     4024       260   5.283364  1549614193\n",
              "1     4024      1198   5.182836  1549614193\n",
              "2     4024       296   5.091716  1549614193\n",
              "3     4024       858   5.021028  1549614193\n",
              "4     4024       922   4.972469  1550830193"
            ]
          },
          "metadata": {
            "tags": []
          },
          "execution_count": 26
        }
      ]
    }
  ]
}